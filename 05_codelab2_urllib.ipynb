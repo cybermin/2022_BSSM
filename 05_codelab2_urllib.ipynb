{
  "nbformat": 4,
  "nbformat_minor": 0,
  "metadata": {
    "colab": {
      "name": "05_codelab2_urllib.ipynb",
      "provenance": [],
      "collapsed_sections": [],
      "include_colab_link": true
    },
    "kernelspec": {
      "name": "python3",
      "display_name": "Python 3"
    },
    "language_info": {
      "name": "python"
    }
  },
  "cells": [
    {
      "cell_type": "markdown",
      "metadata": {
        "id": "view-in-github",
        "colab_type": "text"
      },
      "source": [
        "<a href=\"https://colab.research.google.com/github/cybermin/2022_BSSM/blob/main/05_codelab2_urllib.ipynb\" target=\"_parent\"><img src=\"https://colab.research.google.com/assets/colab-badge.svg\" alt=\"Open In Colab\"/></a>"
      ]
    },
    {
      "cell_type": "markdown",
      "source": [
        "\n",
        "---\n",
        "\n",
        "# **해결문제**\n",
        "\n",
        "\n",
        "일별 박스오피스 API 서비스를 이용하여 2020년12월1일~31일 일별박스 오피스 자료를 분석하시오.\n",
        "\n",
        "+ https://www.kobis.or.kr/kobisopenapi/homepg/apiservice/searchServiceInfo.do\n",
        "---"
      ],
      "metadata": {
        "id": "7VhPcEndQMR-"
      }
    },
    {
      "cell_type": "code",
      "source": [
        "#한글 폰트 사용설치\n",
        "%config InlineBackend.figure_format = 'retina'\n",
        "\n",
        "!apt -qq -y install fonts-nanum"
      ],
      "metadata": {
        "colab": {
          "base_uri": "https://localhost:8080/"
        },
        "id": "7hwV8emRXW1z",
        "outputId": "23975ecf-b3a1-4c14-d390-462e5618691b"
      },
      "execution_count": 1,
      "outputs": [
        {
          "output_type": "stream",
          "name": "stdout",
          "text": [
            "fonts-nanum is already the newest version (20170925-1).\n",
            "0 upgraded, 0 newly installed, 0 to remove and 37 not upgraded.\n"
          ]
        }
      ]
    },
    {
      "cell_type": "code",
      "source": [
        "import matplotlib.pyplot as plt\n",
        "import matplotlib as mpl\n",
        "import matplotlib.font_manager as fm\n",
        "fontpath = '/usr/share/fonts/truetype/nanum/NanumBarunGothic.ttf'\n",
        "font = fm.FontProperties(fname=fontpath, size=9)\n",
        "plt.rc('font', family='NanumBarunGothic') \n",
        "mpl.font_manager._rebuild()"
      ],
      "metadata": {
        "id": "kfPUahIzXaNB"
      },
      "execution_count": 2,
      "outputs": []
    },
    {
      "cell_type": "code",
      "source": [
        "plt.title('한글')\n",
        "plt.show()"
      ],
      "metadata": {
        "colab": {
          "base_uri": "https://localhost:8080/",
          "height": 282
        },
        "id": "RY2nf3uwXc98",
        "outputId": "94d146a0-0994-426a-8606-09dcb12f8ab9"
      },
      "execution_count": 3,
      "outputs": [
        {
          "output_type": "display_data",
          "data": {
            "image/png": "[encoded data removed]",
            "text/plain": [
              "<Figure size 432x288 with 1 Axes>"
            ]
          },
          "metadata": {
            "image/png": {
              "width": 378,
              "height": 265
            },
            "needs_background": "light"
          }
        }
      ]
    },
    {
      "cell_type": "markdown",
      "metadata": {
        "id": "7moL-iWT_MUw"
      },
      "source": [
        "#urllib 모듈\n",
        "+ URL과 웹 요청에 관련된 모듈들 패키지로 묶어 제공"
      ]
    },
    {
      "cell_type": "markdown",
      "metadata": {
        "id": "P2nLzn8h_P2L"
      },
      "source": [
        "## urllib.request 모듈\n",
        "* 웹 페이지 요청 및 데이터를 가져올 수 있음"
      ]
    },
    {
      "cell_type": "markdown",
      "metadata": {
        "id": "SiBFl2GU_ih3"
      },
      "source": [
        "### urllib.request.urlopen(url, data)\n",
        "* 웹 서버에 정보를 요청한 후, 돌려받은 응답을 저장하여 ‘**응답 객체(HTTPResponse)**’를 반환\n",
        "* data는 서버로 전송할 추가 데이터를 지정하는 객체\n",
        "* 반환된 응답 객체:  read() 메서드를 실행\n",
        "   - 웹 서버가 응답한 데이터를 바이트 배열로 읽어들임\n",
        "   - 읽어들인 바이트 배열 : 이진수로 이루어진 수열이어서 **텍스트 형식의 데이터를 decode('utf-8') 메서드를 실행하여 문자열로 변환**\n",
        "\n",
        "* 참고) **Byte 데이터**\n",
        "  + 1바이트(0~255사이 코드)로 표현되는 문자 표현\n",
        "  + 문자열에서 사용하는 연산을 거의 제공\n",
        "    - 인덱싱/슬라이싱, in, Upper(), Split()\n",
        "  + 지원 메소드\n",
        "    - **decode(인코딩값)** : 바이트->문자열로 변환  \n",
        "    - **encode()** : 문자열->바이트로 변환  \n"
      ]
    },
    {
      "cell_type": "markdown",
      "metadata": {
        "id": "Ji2KEhafDwtU"
      },
      "source": [
        "### urllib.request.Request(url, headers={})\n",
        "* POST방식으로 데이터를 보내려고 할 경우 \n",
        "  + URL : 요청 주소\n",
        "  * headers : 딕셔너리형태의 헤더"
      ]
    },
    {
      "cell_type": "markdown",
      "source": [
        "+ 2021년 12월 1일에서 31일까지 일일박스오프자료를 추출해서 CSV저장"
      ],
      "metadata": {
        "id": "gT4JheRLSCVb"
      }
    },
    {
      "cell_type": "code",
      "metadata": {
        "id": "pPOHa5HA-7W0"
      },
      "source": [
        "from urllib.request import Request, urlopen\n",
        "import json  "
      ],
      "execution_count": null,
      "outputs": []
    },
    {
      "cell_type": "code",
      "source": [
        "url = 'http://kobis.or.kr/kobisopenapi/webservice/rest/boxoffice/searchDailyBoxOfficeList.json?key=f5eef3421c602c6cb7ea224104795888&targetDt=20220103'"
      ],
      "metadata": {
        "id": "C36uClNSIRfv"
      },
      "execution_count": null,
      "outputs": []
    },
    {
      "cell_type": "code",
      "source": [
        "rsp = urlopen(url).read().decode('utf-8')\n",
        "rsp"
      ],
      "metadata": {
        "id": "1nYLsZdbKqAH"
      },
      "execution_count": null,
      "outputs": []
    },
    {
      "cell_type": "code",
      "source": [
        "#json형태의 문자열 dict형태로 변경\n",
        "mvdt = json.loads(rsp)\n",
        "type(mvdt)"
      ],
      "metadata": {
        "colab": {
          "base_uri": "https://localhost:8080/"
        },
        "id": "p264n4emKcQb",
        "outputId": "dc5af4d2-48e3-47ba-b24d-02ff8d7d23d4"
      },
      "execution_count": null,
      "outputs": [
        {
          "output_type": "execute_result",
          "data": {
            "text/plain": [
              "dict"
            ]
          },
          "metadata": {},
          "execution_count": 16
        }
      ]
    },
    {
      "cell_type": "code",
      "source": [
        "mvlt = mvdt['boxOfficeResult']['dailyBoxOfficeList']\n",
        "type(mvlt)"
      ],
      "metadata": {
        "colab": {
          "base_uri": "https://localhost:8080/"
        },
        "id": "nIshK1I9LJBi",
        "outputId": "9fb5495b-5afd-42ff-e84e-adf8843a5108"
      },
      "execution_count": null,
      "outputs": [
        {
          "output_type": "execute_result",
          "data": {
            "text/plain": [
              "list"
            ]
          },
          "metadata": {},
          "execution_count": 19
        }
      ]
    },
    {
      "cell_type": "code",
      "source": [
        "for item in mvlt:\n",
        "  d = mvdt['boxOfficeResult'][\"showRange\"][:4] + '-' + mvdt['boxOfficeResult'][\"showRange\"][4:6] +'-'+ mvdt['boxOfficeResult'][\"showRange\"][6:8]\n",
        "  print( d, item[\"rank\"], item['movieNm'], item['audiCnt'] , item['audiAcc'])"
      ],
      "metadata": {
        "colab": {
          "base_uri": "https://localhost:8080/"
        },
        "id": "FQXg5ixoLeel",
        "outputId": "0dda9eee-0f17-4379-c844-5a53e31fcc23"
      },
      "execution_count": null,
      "outputs": [
        {
          "output_type": "stream",
          "name": "stdout",
          "text": [
            "2022-01-03 1 스파이더맨: 노 웨이 홈 66799 6141100\n",
            "2022-01-03 2 킹스맨: 퍼스트 에이전트 23748 800139\n",
            "2022-01-03 3 해피 뉴 이어 10181 196396\n",
            "2022-01-03 4 매트릭스: 리저렉션 1843 204748\n",
            "2022-01-03 5 드라이브 마이 카 1105 23696\n",
            "2022-01-03 6 신데렐라 2: 마법에 걸린 왕자 1022 36771\n",
            "2022-01-03 7 엔칸토: 마법의 세계 897 627528\n",
            "2022-01-03 8 램 533 11058\n",
            "2022-01-03 9 괴짜들의 로맨스 350 8101\n",
            "2022-01-03 10 씽2게더 267 557\n"
          ]
        }
      ]
    },
    {
      "cell_type": "markdown",
      "source": [
        "---\n",
        "\n",
        "# **해결문제**\n",
        "\n",
        "\n",
        "일별 박스오피스 API 서비스를 이용하여 2020년12월1일~31일 일별박스 오피스 자료를 분석하시오.\n",
        "\n",
        "+ https://www.kobis.or.kr/kobisopenapi/homepg/apiservice/searchServiceInfo.do\n",
        "---"
      ],
      "metadata": {
        "id": "Gr4S-ob_golt"
      }
    },
    {
      "cell_type": "code",
      "source": [
        "from google.colab import drive\n",
        "drive.mount('/content/drive')"
      ],
      "metadata": {
        "colab": {
          "base_uri": "https://localhost:8080/"
        },
        "id": "bOLCrVWalLnP",
        "outputId": "643bbb99-d73a-4433-bdcc-3380f90f450c"
      },
      "execution_count": 1,
      "outputs": [
        {
          "output_type": "stream",
          "name": "stdout",
          "text": [
            "Mounted at /content/drive\n"
          ]
        }
      ]
    },
    {
      "cell_type": "code",
      "source": [
        "list(range(1,32))"
      ],
      "metadata": {
        "id": "bHmeKqnbmjxN"
      },
      "execution_count": null,
      "outputs": []
    },
    {
      "cell_type": "code",
      "source": [
        "#파이썬 반복문 \n",
        "for i  in range(1,32) :\n",
        "  print(i, end=' ')"
      ],
      "metadata": {
        "colab": {
          "base_uri": "https://localhost:8080/"
        },
        "id": "IEIjxz5Vgmki",
        "outputId": "75b18bbb-bff0-43ff-c1bc-3981ce6effae"
      },
      "execution_count": 8,
      "outputs": [
        {
          "output_type": "stream",
          "name": "stdout",
          "text": [
            "1 2 3 4 5 6 7 8 9 10 11 12 13 14 15 16 17 18 19 20 21 22 23 24 25 26 27 28 29 30 31 "
          ]
        }
      ]
    },
    {
      "cell_type": "code",
      "source": [
        "#1~31까지 숫자를 2자리 문자열로 만들기 \n",
        "for i  in range(1,32) :\n",
        "  if i < 10 : n = '0' + str(i)\n",
        "  else : n = str(i)\n",
        "\n",
        "  print(n, end=' ')"
      ],
      "metadata": {
        "colab": {
          "base_uri": "https://localhost:8080/"
        },
        "id": "XxXJLHRgnRNf",
        "outputId": "8f5e8e4f-e38f-4846-b0bf-8300c26e79b5"
      },
      "execution_count": 9,
      "outputs": [
        {
          "output_type": "stream",
          "name": "stdout",
          "text": [
            "01 02 03 04 05 06 07 08 09 10 11 12 13 14 15 16 17 18 19 20 21 22 23 24 25 26 27 28 29 30 31 "
          ]
        }
      ]
    },
    {
      "cell_type": "code",
      "source": [
        "#1~31까지 숫자를 2자리 문자열로 만들기 : 파이썬 포멧\n",
        "for i  in range(1,32) :\n",
        "  #n = '{:02d}'.format(i)\n",
        "  n = f'{i:02d}'\n",
        "\n",
        "  print(n, end=' ')"
      ],
      "metadata": {
        "colab": {
          "base_uri": "https://localhost:8080/"
        },
        "id": "_HbNb6pPoA1t",
        "outputId": "d1fe9014-7b0b-410f-e1ff-89a3f88caffb"
      },
      "execution_count": 11,
      "outputs": [
        {
          "output_type": "stream",
          "name": "stdout",
          "text": [
            "01 02 03 04 05 06 07 08 09 10 11 12 13 14 15 16 17 18 19 20 21 22 23 24 25 26 27 28 29 30 31 "
          ]
        }
      ]
    },
    {
      "cell_type": "code",
      "source": [
        "from urllib.request import Request, urlopen\n",
        "import json "
      ],
      "metadata": {
        "id": "MrLtA0uQwtDP"
      },
      "execution_count": 18,
      "outputs": []
    },
    {
      "cell_type": "code",
      "source": [
        "#함수 \n",
        "def mvApi(n) :\n",
        "  #url =  'http://kobis.or.kr/kobisopenapi/webservice/rest/boxoffice/searchDailyBoxOfficeList.json?key=f5eef3421c602c6cb7ea224104795888&targetDt=202112' + n\n",
        "  url =  'http://kobis.or.kr/kobisopenapi/webservice/rest/boxoffice/searchDailyBoxOfficeList.json?'\n",
        "  url = url + 'key=' + 'f5eef3421c602c6cb7ea224104795888'\n",
        "  url = url + '&targetDt=202112' + n\n",
        "\n",
        "  #웹상에서 제공되는 json형태의 자료가져오기\n",
        "  resp = urlopen(url).read().decode('utf-8')\n",
        "\n",
        "  #파이썬의 딕션너리 형태로 변형 \n",
        "  mvdt = json.loads(resp)\n",
        "\n",
        "  #딕션너리에서 자료 가져오기\n",
        "  boxOfficeResult = mvdt['boxOfficeResult']\n",
        "\n",
        "  #일자 만들기\n",
        "  showRange = boxOfficeResult['showRange']\n",
        "  day = showRange[:4] + '-' + showRange[4:6] + '-' + showRange[6:8]\n",
        "\n",
        "  #박스오피스 영화\n",
        "  dailyBoxOfficeList = boxOfficeResult['dailyBoxOfficeList']\n",
        "\n",
        "  lines = ''\n",
        "  for item in dailyBoxOfficeList :\n",
        "    lines = lines + f\"{day},{item['rank']},{item['movieNm']},{item['audiCnt']},{item['audiAcc']}\\n\"\n",
        "\n",
        "\n",
        "  return lines"
      ],
      "metadata": {
        "id": "7rzYr-17qrDq"
      },
      "execution_count": 34,
      "outputs": []
    },
    {
      "cell_type": "code",
      "source": [
        "#csv 파일 만들기 \n",
        "with open('/content/drive/MyDrive/BSSM/BSSM2022/data/mv.csv', 'w') as fp :\n",
        "  fp.write('일자,순위,영화명,일관객수,누적관객수\\n')\n",
        "\n",
        "with open('/content/drive/MyDrive/BSSM/BSSM2022/data/mv.csv', 'a') as fp :\n",
        "  for i  in range(1,11) :\n",
        "    n = f'{i:02d}'\n",
        "    lines = mvApi(n)\n",
        "\n",
        "    print(lines)\n",
        "    fp.write(lines)"
      ],
      "metadata": {
        "id": "b5zTcKPe2ZqE"
      },
      "execution_count": null,
      "outputs": []
    },
    {
      "cell_type": "code",
      "source": [
        "for i  in range(1,5) :\n",
        "  n = f'{i:02d}'\n",
        "  lines = mvApi(n)\n",
        "\n",
        "  print(url)"
      ],
      "metadata": {
        "id": "t0-v8eCprAwd"
      },
      "execution_count": null,
      "outputs": []
    },
    {
      "cell_type": "markdown",
      "source": [
        "+ 1~10일까지 영화중 1일 관객수가 최대인 영화를 찾으시오."
      ],
      "metadata": {
        "id": "wUoftfNT6R9d"
      }
    },
    {
      "cell_type": "code",
      "source": [
        "#판다스 mv.csv 읽어오기\n",
        "import pandas as pd"
      ],
      "metadata": {
        "id": "B0VdMy5r6MvJ"
      },
      "execution_count": 40,
      "outputs": []
    },
    {
      "cell_type": "code",
      "source": [
        "df = pd.read_csv('/content/drive/MyDrive/BSSM/BSSM2022/data/mv.csv')\n",
        "df.head()"
      ],
      "metadata": {
        "colab": {
          "base_uri": "https://localhost:8080/",
          "height": 206
        },
        "id": "fOxppmws61JZ",
        "outputId": "c7f4a931-59e8-4b0c-b0ad-9c192a35eafe"
      },
      "execution_count": 42,
      "outputs": [
        {
          "output_type": "execute_result",
          "data": {
            "text/html": [
              "\n",
              "  <div id=\"df-522ad3ce-f9ec-4cdd-a105-dedeac7e6ea1\">\n",
              "    <div class=\"colab-df-container\">\n",
              "      <div>\n",
              "<style scoped>\n",
              "    .dataframe tbody tr th:only-of-type {\n",
              "        vertical-align: middle;\n",
              "    }\n",
              "\n",
              "    .dataframe tbody tr th {\n",
              "        vertical-align: top;\n",
              "    }\n",
              "\n",
              "    .dataframe thead th {\n",
              "        text-align: right;\n",
              "    }\n",
              "</style>\n",
              "<table border=\"1\" class=\"dataframe\">\n",
              "  <thead>\n",
              "    <tr style=\"text-align: right;\">\n",
              "      <th></th>\n",
              "      <th>일자</th>\n",
              "      <th>순위</th>\n",
              "      <th>영화명</th>\n",
              "      <th>일관객수</th>\n",
              "      <th>누적관객수</th>\n",
              "    </tr>\n",
              "  </thead>\n",
              "  <tbody>\n",
              "    <tr>\n",
              "      <th>0</th>\n",
              "      <td>2021-12-01</td>\n",
              "      <td>1</td>\n",
              "      <td>유체이탈자</td>\n",
              "      <td>28158</td>\n",
              "      <td>468281</td>\n",
              "    </tr>\n",
              "    <tr>\n",
              "      <th>1</th>\n",
              "      <td>2021-12-01</td>\n",
              "      <td>2</td>\n",
              "      <td>연애 빠진 로맨스</td>\n",
              "      <td>20372</td>\n",
              "      <td>275782</td>\n",
              "    </tr>\n",
              "    <tr>\n",
              "      <th>2</th>\n",
              "      <td>2021-12-01</td>\n",
              "      <td>3</td>\n",
              "      <td>고스트버스터즈 라이즈</td>\n",
              "      <td>20063</td>\n",
              "      <td>20608</td>\n",
              "    </tr>\n",
              "    <tr>\n",
              "      <th>3</th>\n",
              "      <td>2021-12-01</td>\n",
              "      <td>4</td>\n",
              "      <td>엔칸토: 마법의 세계</td>\n",
              "      <td>14353</td>\n",
              "      <td>316689</td>\n",
              "    </tr>\n",
              "    <tr>\n",
              "      <th>4</th>\n",
              "      <td>2021-12-01</td>\n",
              "      <td>5</td>\n",
              "      <td>라스트 나잇 인 소호</td>\n",
              "      <td>10291</td>\n",
              "      <td>10655</td>\n",
              "    </tr>\n",
              "  </tbody>\n",
              "</table>\n",
              "</div>\n",
              "      <button class=\"colab-df-convert\" onclick=\"convertToInteractive('df-522ad3ce-f9ec-4cdd-a105-dedeac7e6ea1')\"\n",
              "              title=\"Convert this dataframe to an interactive table.\"\n",
              "              style=\"display:none;\">\n",
              "        \n",
              "  <svg xmlns=\"http://www.w3.org/2000/svg\" height=\"24px\"viewBox=\"0 0 24 24\"\n",
              "       width=\"24px\">\n",
              "    <path d=\"M0 0h24v24H0V0z\" fill=\"none\"/>\n",
              "    <path d=\"M18.56 5.44l.94 2.06.94-2.06 2.06-.94-2.06-.94-.94-2.06-.94 2.06-2.06.94zm-11 1L8.5 8.5l.94-2.06 2.06-.94-2.06-.94L8.5 2.5l-.94 2.06-2.06.94zm10 10l.94 2.06.94-2.06 2.06-.94-2.06-.94-.94-2.06-.94 2.06-2.06.94z\"/><path d=\"M17.41 7.96l-1.37-1.37c-.4-.4-.92-.59-1.43-.59-.52 0-1.04.2-1.43.59L10.3 9.45l-7.72 7.72c-.78.78-.78 2.05 0 2.83L4 21.41c.39.39.9.59 1.41.59.51 0 1.02-.2 1.41-.59l7.78-7.78 2.81-2.81c.8-.78.8-2.07 0-2.86zM5.41 20L4 18.59l7.72-7.72 1.47 1.35L5.41 20z\"/>\n",
              "  </svg>\n",
              "      </button>\n",
              "      \n",
              "  <style>\n",
              "    .colab-df-container {\n",
              "      display:flex;\n",
              "      flex-wrap:wrap;\n",
              "      gap: 12px;\n",
              "    }\n",
              "\n",
              "    .colab-df-convert {\n",
              "      background-color: #E8F0FE;\n",
              "      border: none;\n",
              "      border-radius: 50%;\n",
              "      cursor: pointer;\n",
              "      display: none;\n",
              "      fill: #1967D2;\n",
              "      height: 32px;\n",
              "      padding: 0 0 0 0;\n",
              "      width: 32px;\n",
              "    }\n",
              "\n",
              "    .colab-df-convert:hover {\n",
              "      background-color: #E2EBFA;\n",
              "      box-shadow: 0px 1px 2px rgba(60, 64, 67, 0.3), 0px 1px 3px 1px rgba(60, 64, 67, 0.15);\n",
              "      fill: #174EA6;\n",
              "    }\n",
              "\n",
              "    [theme=dark] .colab-df-convert {\n",
              "      background-color: #3B4455;\n",
              "      fill: #D2E3FC;\n",
              "    }\n",
              "\n",
              "    [theme=dark] .colab-df-convert:hover {\n",
              "      background-color: #434B5C;\n",
              "      box-shadow: 0px 1px 3px 1px rgba(0, 0, 0, 0.15);\n",
              "      filter: drop-shadow(0px 1px 2px rgba(0, 0, 0, 0.3));\n",
              "      fill: #FFFFFF;\n",
              "    }\n",
              "  </style>\n",
              "\n",
              "      <script>\n",
              "        const buttonEl =\n",
              "          document.querySelector('#df-522ad3ce-f9ec-4cdd-a105-dedeac7e6ea1 button.colab-df-convert');\n",
              "        buttonEl.style.display =\n",
              "          google.colab.kernel.accessAllowed ? 'block' : 'none';\n",
              "\n",
              "        async function convertToInteractive(key) {\n",
              "          const element = document.querySelector('#df-522ad3ce-f9ec-4cdd-a105-dedeac7e6ea1');\n",
              "          const dataTable =\n",
              "            await google.colab.kernel.invokeFunction('convertToInteractive',\n",
              "                                                     [key], {});\n",
              "          if (!dataTable) return;\n",
              "\n",
              "          const docLinkHtml = 'Like what you see? Visit the ' +\n",
              "            '<a target=\"_blank\" href=https://colab.research.google.com/notebooks/data_table.ipynb>data table notebook</a>'\n",
              "            + ' to learn more about interactive tables.';\n",
              "          element.innerHTML = '';\n",
              "          dataTable['output_type'] = 'display_data';\n",
              "          await google.colab.output.renderOutput(dataTable, element);\n",
              "          const docLink = document.createElement('div');\n",
              "          docLink.innerHTML = docLinkHtml;\n",
              "          element.appendChild(docLink);\n",
              "        }\n",
              "      </script>\n",
              "    </div>\n",
              "  </div>\n",
              "  "
            ],
            "text/plain": [
              "           일자  순위          영화명   일관객수   누적관객수\n",
              "0  2021-12-01   1        유체이탈자  28158  468281\n",
              "1  2021-12-01   2    연애 빠진 로맨스  20372  275782\n",
              "2  2021-12-01   3  고스트버스터즈 라이즈  20063   20608\n",
              "3  2021-12-01   4  엔칸토: 마법의 세계  14353  316689\n",
              "4  2021-12-01   5  라스트 나잇 인 소호  10291   10655"
            ]
          },
          "metadata": {},
          "execution_count": 42
        }
      ]
    },
    {
      "cell_type": "code",
      "source": [
        "df['일관객수'].max()"
      ],
      "metadata": {
        "colab": {
          "base_uri": "https://localhost:8080/"
        },
        "id": "BtIMIvt_68tr",
        "outputId": "7f04401f-27f8-4e98-fdbd-9c37ec342f4c"
      },
      "execution_count": 43,
      "outputs": [
        {
          "output_type": "execute_result",
          "data": {
            "text/plain": [
              "54578"
            ]
          },
          "metadata": {},
          "execution_count": 43
        }
      ]
    },
    {
      "cell_type": "code",
      "source": [
        "df[df['일관객수'] == df['일관객수'].max()]"
      ],
      "metadata": {
        "colab": {
          "base_uri": "https://localhost:8080/",
          "height": 81
        },
        "id": "_KDr99wb7Ie3",
        "outputId": "c6d49749-95af-4f72-9696-16b4e0968d63"
      },
      "execution_count": 44,
      "outputs": [
        {
          "output_type": "execute_result",
          "data": {
            "text/html": [
              "\n",
              "  <div id=\"df-a367e094-2c91-4f09-b4e4-a41261764c7b\">\n",
              "    <div class=\"colab-df-container\">\n",
              "      <div>\n",
              "<style scoped>\n",
              "    .dataframe tbody tr th:only-of-type {\n",
              "        vertical-align: middle;\n",
              "    }\n",
              "\n",
              "    .dataframe tbody tr th {\n",
              "        vertical-align: top;\n",
              "    }\n",
              "\n",
              "    .dataframe thead th {\n",
              "        text-align: right;\n",
              "    }\n",
              "</style>\n",
              "<table border=\"1\" class=\"dataframe\">\n",
              "  <thead>\n",
              "    <tr style=\"text-align: right;\">\n",
              "      <th></th>\n",
              "      <th>일자</th>\n",
              "      <th>순위</th>\n",
              "      <th>영화명</th>\n",
              "      <th>일관객수</th>\n",
              "      <th>누적관객수</th>\n",
              "    </tr>\n",
              "  </thead>\n",
              "  <tbody>\n",
              "    <tr>\n",
              "      <th>30</th>\n",
              "      <td>2021-12-04</td>\n",
              "      <td>1</td>\n",
              "      <td>유체이탈자</td>\n",
              "      <td>54578</td>\n",
              "      <td>577606</td>\n",
              "    </tr>\n",
              "  </tbody>\n",
              "</table>\n",
              "</div>\n",
              "      <button class=\"colab-df-convert\" onclick=\"convertToInteractive('df-a367e094-2c91-4f09-b4e4-a41261764c7b')\"\n",
              "              title=\"Convert this dataframe to an interactive table.\"\n",
              "              style=\"display:none;\">\n",
              "        \n",
              "  <svg xmlns=\"http://www.w3.org/2000/svg\" height=\"24px\"viewBox=\"0 0 24 24\"\n",
              "       width=\"24px\">\n",
              "    <path d=\"M0 0h24v24H0V0z\" fill=\"none\"/>\n",
              "    <path d=\"M18.56 5.44l.94 2.06.94-2.06 2.06-.94-2.06-.94-.94-2.06-.94 2.06-2.06.94zm-11 1L8.5 8.5l.94-2.06 2.06-.94-2.06-.94L8.5 2.5l-.94 2.06-2.06.94zm10 10l.94 2.06.94-2.06 2.06-.94-2.06-.94-.94-2.06-.94 2.06-2.06.94z\"/><path d=\"M17.41 7.96l-1.37-1.37c-.4-.4-.92-.59-1.43-.59-.52 0-1.04.2-1.43.59L10.3 9.45l-7.72 7.72c-.78.78-.78 2.05 0 2.83L4 21.41c.39.39.9.59 1.41.59.51 0 1.02-.2 1.41-.59l7.78-7.78 2.81-2.81c.8-.78.8-2.07 0-2.86zM5.41 20L4 18.59l7.72-7.72 1.47 1.35L5.41 20z\"/>\n",
              "  </svg>\n",
              "      </button>\n",
              "      \n",
              "  <style>\n",
              "    .colab-df-container {\n",
              "      display:flex;\n",
              "      flex-wrap:wrap;\n",
              "      gap: 12px;\n",
              "    }\n",
              "\n",
              "    .colab-df-convert {\n",
              "      background-color: #E8F0FE;\n",
              "      border: none;\n",
              "      border-radius: 50%;\n",
              "      cursor: pointer;\n",
              "      display: none;\n",
              "      fill: #1967D2;\n",
              "      height: 32px;\n",
              "      padding: 0 0 0 0;\n",
              "      width: 32px;\n",
              "    }\n",
              "\n",
              "    .colab-df-convert:hover {\n",
              "      background-color: #E2EBFA;\n",
              "      box-shadow: 0px 1px 2px rgba(60, 64, 67, 0.3), 0px 1px 3px 1px rgba(60, 64, 67, 0.15);\n",
              "      fill: #174EA6;\n",
              "    }\n",
              "\n",
              "    [theme=dark] .colab-df-convert {\n",
              "      background-color: #3B4455;\n",
              "      fill: #D2E3FC;\n",
              "    }\n",
              "\n",
              "    [theme=dark] .colab-df-convert:hover {\n",
              "      background-color: #434B5C;\n",
              "      box-shadow: 0px 1px 3px 1px rgba(0, 0, 0, 0.15);\n",
              "      filter: drop-shadow(0px 1px 2px rgba(0, 0, 0, 0.3));\n",
              "      fill: #FFFFFF;\n",
              "    }\n",
              "  </style>\n",
              "\n",
              "      <script>\n",
              "        const buttonEl =\n",
              "          document.querySelector('#df-a367e094-2c91-4f09-b4e4-a41261764c7b button.colab-df-convert');\n",
              "        buttonEl.style.display =\n",
              "          google.colab.kernel.accessAllowed ? 'block' : 'none';\n",
              "\n",
              "        async function convertToInteractive(key) {\n",
              "          const element = document.querySelector('#df-a367e094-2c91-4f09-b4e4-a41261764c7b');\n",
              "          const dataTable =\n",
              "            await google.colab.kernel.invokeFunction('convertToInteractive',\n",
              "                                                     [key], {});\n",
              "          if (!dataTable) return;\n",
              "\n",
              "          const docLinkHtml = 'Like what you see? Visit the ' +\n",
              "            '<a target=\"_blank\" href=https://colab.research.google.com/notebooks/data_table.ipynb>data table notebook</a>'\n",
              "            + ' to learn more about interactive tables.';\n",
              "          element.innerHTML = '';\n",
              "          dataTable['output_type'] = 'display_data';\n",
              "          await google.colab.output.renderOutput(dataTable, element);\n",
              "          const docLink = document.createElement('div');\n",
              "          docLink.innerHTML = docLinkHtml;\n",
              "          element.appendChild(docLink);\n",
              "        }\n",
              "      </script>\n",
              "    </div>\n",
              "  </div>\n",
              "  "
            ],
            "text/plain": [
              "            일자  순위    영화명   일관객수   누적관객수\n",
              "30  2021-12-04   1  유체이탈자  54578  577606"
            ]
          },
          "metadata": {},
          "execution_count": 44
        }
      ]
    },
    {
      "cell_type": "markdown",
      "source": [
        "+ 요일별 관객수 평균을 그래프로 그리시오."
      ],
      "metadata": {
        "id": "eApYoCg4-G6j"
      }
    },
    {
      "cell_type": "code",
      "source": [
        "#일자->datetime 형식변경\n",
        "df.info()"
      ],
      "metadata": {
        "colab": {
          "base_uri": "https://localhost:8080/"
        },
        "id": "6v-B22t3-GLY",
        "outputId": "4070eff9-1c47-46a4-fdb6-0613b640f526"
      },
      "execution_count": 45,
      "outputs": [
        {
          "output_type": "stream",
          "name": "stdout",
          "text": [
            "<class 'pandas.core.frame.DataFrame'>\n",
            "RangeIndex: 100 entries, 0 to 99\n",
            "Data columns (total 5 columns):\n",
            " #   Column  Non-Null Count  Dtype \n",
            "---  ------  --------------  ----- \n",
            " 0   일자      100 non-null    object\n",
            " 1   순위      100 non-null    int64 \n",
            " 2   영화명     100 non-null    object\n",
            " 3   일관객수    100 non-null    int64 \n",
            " 4   누적관객수   100 non-null    int64 \n",
            "dtypes: int64(3), object(2)\n",
            "memory usage: 4.0+ KB\n"
          ]
        }
      ]
    },
    {
      "cell_type": "code",
      "source": [
        "df['일자'] = pd.to_datetime(df['일자'])"
      ],
      "metadata": {
        "id": "oo1VV8HgFp7l"
      },
      "execution_count": 46,
      "outputs": []
    },
    {
      "cell_type": "code",
      "source": [
        "df.info()"
      ],
      "metadata": {
        "colab": {
          "base_uri": "https://localhost:8080/"
        },
        "id": "OZ8Y0KLfF6Ai",
        "outputId": "3b1d37a7-da34-4a35-9af3-b955dfa09f37"
      },
      "execution_count": 47,
      "outputs": [
        {
          "output_type": "stream",
          "name": "stdout",
          "text": [
            "<class 'pandas.core.frame.DataFrame'>\n",
            "RangeIndex: 100 entries, 0 to 99\n",
            "Data columns (total 5 columns):\n",
            " #   Column  Non-Null Count  Dtype         \n",
            "---  ------  --------------  -----         \n",
            " 0   일자      100 non-null    datetime64[ns]\n",
            " 1   순위      100 non-null    int64         \n",
            " 2   영화명     100 non-null    object        \n",
            " 3   일관객수    100 non-null    int64         \n",
            " 4   누적관객수   100 non-null    int64         \n",
            "dtypes: datetime64[ns](1), int64(3), object(1)\n",
            "memory usage: 4.0+ KB\n"
          ]
        }
      ]
    },
    {
      "cell_type": "code",
      "source": [
        "#0-월, 1-화\n",
        "df['요일'] = df['일자'].dt.weekday"
      ],
      "metadata": {
        "id": "zAfueJZOGCSo"
      },
      "execution_count": 48,
      "outputs": []
    },
    {
      "cell_type": "code",
      "source": [
        "df.head()"
      ],
      "metadata": {
        "colab": {
          "base_uri": "https://localhost:8080/",
          "height": 206
        },
        "id": "T0Vk4ngLGeRd",
        "outputId": "6176a6a8-f786-4e8a-990c-c9f29a341a15"
      },
      "execution_count": 49,
      "outputs": [
        {
          "output_type": "execute_result",
          "data": {
            "text/html": [
              "\n",
              "  <div id=\"df-a9a2e922-f83d-4ce4-ad42-43a426f2732f\">\n",
              "    <div class=\"colab-df-container\">\n",
              "      <div>\n",
              "<style scoped>\n",
              "    .dataframe tbody tr th:only-of-type {\n",
              "        vertical-align: middle;\n",
              "    }\n",
              "\n",
              "    .dataframe tbody tr th {\n",
              "        vertical-align: top;\n",
              "    }\n",
              "\n",
              "    .dataframe thead th {\n",
              "        text-align: right;\n",
              "    }\n",
              "</style>\n",
              "<table border=\"1\" class=\"dataframe\">\n",
              "  <thead>\n",
              "    <tr style=\"text-align: right;\">\n",
              "      <th></th>\n",
              "      <th>일자</th>\n",
              "      <th>순위</th>\n",
              "      <th>영화명</th>\n",
              "      <th>일관객수</th>\n",
              "      <th>누적관객수</th>\n",
              "      <th>요일</th>\n",
              "    </tr>\n",
              "  </thead>\n",
              "  <tbody>\n",
              "    <tr>\n",
              "      <th>0</th>\n",
              "      <td>2021-12-01</td>\n",
              "      <td>1</td>\n",
              "      <td>유체이탈자</td>\n",
              "      <td>28158</td>\n",
              "      <td>468281</td>\n",
              "      <td>2</td>\n",
              "    </tr>\n",
              "    <tr>\n",
              "      <th>1</th>\n",
              "      <td>2021-12-01</td>\n",
              "      <td>2</td>\n",
              "      <td>연애 빠진 로맨스</td>\n",
              "      <td>20372</td>\n",
              "      <td>275782</td>\n",
              "      <td>2</td>\n",
              "    </tr>\n",
              "    <tr>\n",
              "      <th>2</th>\n",
              "      <td>2021-12-01</td>\n",
              "      <td>3</td>\n",
              "      <td>고스트버스터즈 라이즈</td>\n",
              "      <td>20063</td>\n",
              "      <td>20608</td>\n",
              "      <td>2</td>\n",
              "    </tr>\n",
              "    <tr>\n",
              "      <th>3</th>\n",
              "      <td>2021-12-01</td>\n",
              "      <td>4</td>\n",
              "      <td>엔칸토: 마법의 세계</td>\n",
              "      <td>14353</td>\n",
              "      <td>316689</td>\n",
              "      <td>2</td>\n",
              "    </tr>\n",
              "    <tr>\n",
              "      <th>4</th>\n",
              "      <td>2021-12-01</td>\n",
              "      <td>5</td>\n",
              "      <td>라스트 나잇 인 소호</td>\n",
              "      <td>10291</td>\n",
              "      <td>10655</td>\n",
              "      <td>2</td>\n",
              "    </tr>\n",
              "  </tbody>\n",
              "</table>\n",
              "</div>\n",
              "      <button class=\"colab-df-convert\" onclick=\"convertToInteractive('df-a9a2e922-f83d-4ce4-ad42-43a426f2732f')\"\n",
              "              title=\"Convert this dataframe to an interactive table.\"\n",
              "              style=\"display:none;\">\n",
              "        \n",
              "  <svg xmlns=\"http://www.w3.org/2000/svg\" height=\"24px\"viewBox=\"0 0 24 24\"\n",
              "       width=\"24px\">\n",
              "    <path d=\"M0 0h24v24H0V0z\" fill=\"none\"/>\n",
              "    <path d=\"M18.56 5.44l.94 2.06.94-2.06 2.06-.94-2.06-.94-.94-2.06-.94 2.06-2.06.94zm-11 1L8.5 8.5l.94-2.06 2.06-.94-2.06-.94L8.5 2.5l-.94 2.06-2.06.94zm10 10l.94 2.06.94-2.06 2.06-.94-2.06-.94-.94-2.06-.94 2.06-2.06.94z\"/><path d=\"M17.41 7.96l-1.37-1.37c-.4-.4-.92-.59-1.43-.59-.52 0-1.04.2-1.43.59L10.3 9.45l-7.72 7.72c-.78.78-.78 2.05 0 2.83L4 21.41c.39.39.9.59 1.41.59.51 0 1.02-.2 1.41-.59l7.78-7.78 2.81-2.81c.8-.78.8-2.07 0-2.86zM5.41 20L4 18.59l7.72-7.72 1.47 1.35L5.41 20z\"/>\n",
              "  </svg>\n",
              "      </button>\n",
              "      \n",
              "  <style>\n",
              "    .colab-df-container {\n",
              "      display:flex;\n",
              "      flex-wrap:wrap;\n",
              "      gap: 12px;\n",
              "    }\n",
              "\n",
              "    .colab-df-convert {\n",
              "      background-color: #E8F0FE;\n",
              "      border: none;\n",
              "      border-radius: 50%;\n",
              "      cursor: pointer;\n",
              "      display: none;\n",
              "      fill: #1967D2;\n",
              "      height: 32px;\n",
              "      padding: 0 0 0 0;\n",
              "      width: 32px;\n",
              "    }\n",
              "\n",
              "    .colab-df-convert:hover {\n",
              "      background-color: #E2EBFA;\n",
              "      box-shadow: 0px 1px 2px rgba(60, 64, 67, 0.3), 0px 1px 3px 1px rgba(60, 64, 67, 0.15);\n",
              "      fill: #174EA6;\n",
              "    }\n",
              "\n",
              "    [theme=dark] .colab-df-convert {\n",
              "      background-color: #3B4455;\n",
              "      fill: #D2E3FC;\n",
              "    }\n",
              "\n",
              "    [theme=dark] .colab-df-convert:hover {\n",
              "      background-color: #434B5C;\n",
              "      box-shadow: 0px 1px 3px 1px rgba(0, 0, 0, 0.15);\n",
              "      filter: drop-shadow(0px 1px 2px rgba(0, 0, 0, 0.3));\n",
              "      fill: #FFFFFF;\n",
              "    }\n",
              "  </style>\n",
              "\n",
              "      <script>\n",
              "        const buttonEl =\n",
              "          document.querySelector('#df-a9a2e922-f83d-4ce4-ad42-43a426f2732f button.colab-df-convert');\n",
              "        buttonEl.style.display =\n",
              "          google.colab.kernel.accessAllowed ? 'block' : 'none';\n",
              "\n",
              "        async function convertToInteractive(key) {\n",
              "          const element = document.querySelector('#df-a9a2e922-f83d-4ce4-ad42-43a426f2732f');\n",
              "          const dataTable =\n",
              "            await google.colab.kernel.invokeFunction('convertToInteractive',\n",
              "                                                     [key], {});\n",
              "          if (!dataTable) return;\n",
              "\n",
              "          const docLinkHtml = 'Like what you see? Visit the ' +\n",
              "            '<a target=\"_blank\" href=https://colab.research.google.com/notebooks/data_table.ipynb>data table notebook</a>'\n",
              "            + ' to learn more about interactive tables.';\n",
              "          element.innerHTML = '';\n",
              "          dataTable['output_type'] = 'display_data';\n",
              "          await google.colab.output.renderOutput(dataTable, element);\n",
              "          const docLink = document.createElement('div');\n",
              "          docLink.innerHTML = docLinkHtml;\n",
              "          element.appendChild(docLink);\n",
              "        }\n",
              "      </script>\n",
              "    </div>\n",
              "  </div>\n",
              "  "
            ],
            "text/plain": [
              "          일자  순위          영화명   일관객수   누적관객수  요일\n",
              "0 2021-12-01   1        유체이탈자  28158  468281   2\n",
              "1 2021-12-01   2    연애 빠진 로맨스  20372  275782   2\n",
              "2 2021-12-01   3  고스트버스터즈 라이즈  20063   20608   2\n",
              "3 2021-12-01   4  엔칸토: 마법의 세계  14353  316689   2\n",
              "4 2021-12-01   5  라스트 나잇 인 소호  10291   10655   2"
            ]
          },
          "metadata": {},
          "execution_count": 49
        }
      ]
    },
    {
      "cell_type": "code",
      "source": [
        "#요일명 \n",
        "df['요일명'] = df['요일'].map({0:'월', 1:'화', 2:'수', 3:'목', 4:'금', 5:'토', 6:'일'})\n",
        "df.head()"
      ],
      "metadata": {
        "colab": {
          "base_uri": "https://localhost:8080/",
          "height": 206
        },
        "id": "xzXmy8EcGlAe",
        "outputId": "d71e04ee-6223-456d-bb9a-d249d2b83fb7"
      },
      "execution_count": 50,
      "outputs": [
        {
          "output_type": "execute_result",
          "data": {
            "text/html": [
              "\n",
              "  <div id=\"df-7243b3a5-5acb-4e19-9fba-1371a1714a5e\">\n",
              "    <div class=\"colab-df-container\">\n",
              "      <div>\n",
              "<style scoped>\n",
              "    .dataframe tbody tr th:only-of-type {\n",
              "        vertical-align: middle;\n",
              "    }\n",
              "\n",
              "    .dataframe tbody tr th {\n",
              "        vertical-align: top;\n",
              "    }\n",
              "\n",
              "    .dataframe thead th {\n",
              "        text-align: right;\n",
              "    }\n",
              "</style>\n",
              "<table border=\"1\" class=\"dataframe\">\n",
              "  <thead>\n",
              "    <tr style=\"text-align: right;\">\n",
              "      <th></th>\n",
              "      <th>일자</th>\n",
              "      <th>순위</th>\n",
              "      <th>영화명</th>\n",
              "      <th>일관객수</th>\n",
              "      <th>누적관객수</th>\n",
              "      <th>요일</th>\n",
              "      <th>요일명</th>\n",
              "    </tr>\n",
              "  </thead>\n",
              "  <tbody>\n",
              "    <tr>\n",
              "      <th>0</th>\n",
              "      <td>2021-12-01</td>\n",
              "      <td>1</td>\n",
              "      <td>유체이탈자</td>\n",
              "      <td>28158</td>\n",
              "      <td>468281</td>\n",
              "      <td>2</td>\n",
              "      <td>수</td>\n",
              "    </tr>\n",
              "    <tr>\n",
              "      <th>1</th>\n",
              "      <td>2021-12-01</td>\n",
              "      <td>2</td>\n",
              "      <td>연애 빠진 로맨스</td>\n",
              "      <td>20372</td>\n",
              "      <td>275782</td>\n",
              "      <td>2</td>\n",
              "      <td>수</td>\n",
              "    </tr>\n",
              "    <tr>\n",
              "      <th>2</th>\n",
              "      <td>2021-12-01</td>\n",
              "      <td>3</td>\n",
              "      <td>고스트버스터즈 라이즈</td>\n",
              "      <td>20063</td>\n",
              "      <td>20608</td>\n",
              "      <td>2</td>\n",
              "      <td>수</td>\n",
              "    </tr>\n",
              "    <tr>\n",
              "      <th>3</th>\n",
              "      <td>2021-12-01</td>\n",
              "      <td>4</td>\n",
              "      <td>엔칸토: 마법의 세계</td>\n",
              "      <td>14353</td>\n",
              "      <td>316689</td>\n",
              "      <td>2</td>\n",
              "      <td>수</td>\n",
              "    </tr>\n",
              "    <tr>\n",
              "      <th>4</th>\n",
              "      <td>2021-12-01</td>\n",
              "      <td>5</td>\n",
              "      <td>라스트 나잇 인 소호</td>\n",
              "      <td>10291</td>\n",
              "      <td>10655</td>\n",
              "      <td>2</td>\n",
              "      <td>수</td>\n",
              "    </tr>\n",
              "  </tbody>\n",
              "</table>\n",
              "</div>\n",
              "      <button class=\"colab-df-convert\" onclick=\"convertToInteractive('df-7243b3a5-5acb-4e19-9fba-1371a1714a5e')\"\n",
              "              title=\"Convert this dataframe to an interactive table.\"\n",
              "              style=\"display:none;\">\n",
              "        \n",
              "  <svg xmlns=\"http://www.w3.org/2000/svg\" height=\"24px\"viewBox=\"0 0 24 24\"\n",
              "       width=\"24px\">\n",
              "    <path d=\"M0 0h24v24H0V0z\" fill=\"none\"/>\n",
              "    <path d=\"M18.56 5.44l.94 2.06.94-2.06 2.06-.94-2.06-.94-.94-2.06-.94 2.06-2.06.94zm-11 1L8.5 8.5l.94-2.06 2.06-.94-2.06-.94L8.5 2.5l-.94 2.06-2.06.94zm10 10l.94 2.06.94-2.06 2.06-.94-2.06-.94-.94-2.06-.94 2.06-2.06.94z\"/><path d=\"M17.41 7.96l-1.37-1.37c-.4-.4-.92-.59-1.43-.59-.52 0-1.04.2-1.43.59L10.3 9.45l-7.72 7.72c-.78.78-.78 2.05 0 2.83L4 21.41c.39.39.9.59 1.41.59.51 0 1.02-.2 1.41-.59l7.78-7.78 2.81-2.81c.8-.78.8-2.07 0-2.86zM5.41 20L4 18.59l7.72-7.72 1.47 1.35L5.41 20z\"/>\n",
              "  </svg>\n",
              "      </button>\n",
              "      \n",
              "  <style>\n",
              "    .colab-df-container {\n",
              "      display:flex;\n",
              "      flex-wrap:wrap;\n",
              "      gap: 12px;\n",
              "    }\n",
              "\n",
              "    .colab-df-convert {\n",
              "      background-color: #E8F0FE;\n",
              "      border: none;\n",
              "      border-radius: 50%;\n",
              "      cursor: pointer;\n",
              "      display: none;\n",
              "      fill: #1967D2;\n",
              "      height: 32px;\n",
              "      padding: 0 0 0 0;\n",
              "      width: 32px;\n",
              "    }\n",
              "\n",
              "    .colab-df-convert:hover {\n",
              "      background-color: #E2EBFA;\n",
              "      box-shadow: 0px 1px 2px rgba(60, 64, 67, 0.3), 0px 1px 3px 1px rgba(60, 64, 67, 0.15);\n",
              "      fill: #174EA6;\n",
              "    }\n",
              "\n",
              "    [theme=dark] .colab-df-convert {\n",
              "      background-color: #3B4455;\n",
              "      fill: #D2E3FC;\n",
              "    }\n",
              "\n",
              "    [theme=dark] .colab-df-convert:hover {\n",
              "      background-color: #434B5C;\n",
              "      box-shadow: 0px 1px 3px 1px rgba(0, 0, 0, 0.15);\n",
              "      filter: drop-shadow(0px 1px 2px rgba(0, 0, 0, 0.3));\n",
              "      fill: #FFFFFF;\n",
              "    }\n",
              "  </style>\n",
              "\n",
              "      <script>\n",
              "        const buttonEl =\n",
              "          document.querySelector('#df-7243b3a5-5acb-4e19-9fba-1371a1714a5e button.colab-df-convert');\n",
              "        buttonEl.style.display =\n",
              "          google.colab.kernel.accessAllowed ? 'block' : 'none';\n",
              "\n",
              "        async function convertToInteractive(key) {\n",
              "          const element = document.querySelector('#df-7243b3a5-5acb-4e19-9fba-1371a1714a5e');\n",
              "          const dataTable =\n",
              "            await google.colab.kernel.invokeFunction('convertToInteractive',\n",
              "                                                     [key], {});\n",
              "          if (!dataTable) return;\n",
              "\n",
              "          const docLinkHtml = 'Like what you see? Visit the ' +\n",
              "            '<a target=\"_blank\" href=https://colab.research.google.com/notebooks/data_table.ipynb>data table notebook</a>'\n",
              "            + ' to learn more about interactive tables.';\n",
              "          element.innerHTML = '';\n",
              "          dataTable['output_type'] = 'display_data';\n",
              "          await google.colab.output.renderOutput(dataTable, element);\n",
              "          const docLink = document.createElement('div');\n",
              "          docLink.innerHTML = docLinkHtml;\n",
              "          element.appendChild(docLink);\n",
              "        }\n",
              "      </script>\n",
              "    </div>\n",
              "  </div>\n",
              "  "
            ],
            "text/plain": [
              "          일자  순위          영화명   일관객수   누적관객수  요일 요일명\n",
              "0 2021-12-01   1        유체이탈자  28158  468281   2   수\n",
              "1 2021-12-01   2    연애 빠진 로맨스  20372  275782   2   수\n",
              "2 2021-12-01   3  고스트버스터즈 라이즈  20063   20608   2   수\n",
              "3 2021-12-01   4  엔칸토: 마법의 세계  14353  316689   2   수\n",
              "4 2021-12-01   5  라스트 나잇 인 소호  10291   10655   2   수"
            ]
          },
          "metadata": {},
          "execution_count": 50
        }
      ]
    },
    {
      "cell_type": "code",
      "source": [
        "#seaborn을 통해 요일별 관객수 그래프  => 수치 요일을 문자로 표시"
      ],
      "metadata": {
        "id": "K5g7IgB6-hzQ"
      },
      "execution_count": null,
      "outputs": []
    },
    {
      "cell_type": "code",
      "source": [
        "df.sort_values('일관객수', ascending=False)"
      ],
      "metadata": {
        "colab": {
          "base_uri": "https://localhost:8080/",
          "height": 423
        },
        "id": "ev4LB82vHSuP",
        "outputId": "346c3e96-036f-45b7-e6af-36c04fe6df11"
      },
      "execution_count": 51,
      "outputs": [
        {
          "output_type": "execute_result",
          "data": {
            "text/html": [
              "\n",
              "  <div id=\"df-f8311288-1862-4f1a-b385-87ccade6a82a\">\n",
              "    <div class=\"colab-df-container\">\n",
              "      <div>\n",
              "<style scoped>\n",
              "    .dataframe tbody tr th:only-of-type {\n",
              "        vertical-align: middle;\n",
              "    }\n",
              "\n",
              "    .dataframe tbody tr th {\n",
              "        vertical-align: top;\n",
              "    }\n",
              "\n",
              "    .dataframe thead th {\n",
              "        text-align: right;\n",
              "    }\n",
              "</style>\n",
              "<table border=\"1\" class=\"dataframe\">\n",
              "  <thead>\n",
              "    <tr style=\"text-align: right;\">\n",
              "      <th></th>\n",
              "      <th>일자</th>\n",
              "      <th>순위</th>\n",
              "      <th>영화명</th>\n",
              "      <th>일관객수</th>\n",
              "      <th>누적관객수</th>\n",
              "      <th>요일</th>\n",
              "      <th>요일명</th>\n",
              "    </tr>\n",
              "  </thead>\n",
              "  <tbody>\n",
              "    <tr>\n",
              "      <th>30</th>\n",
              "      <td>2021-12-04</td>\n",
              "      <td>1</td>\n",
              "      <td>유체이탈자</td>\n",
              "      <td>54578</td>\n",
              "      <td>577606</td>\n",
              "      <td>5</td>\n",
              "      <td>토</td>\n",
              "    </tr>\n",
              "    <tr>\n",
              "      <th>40</th>\n",
              "      <td>2021-12-05</td>\n",
              "      <td>1</td>\n",
              "      <td>유체이탈자</td>\n",
              "      <td>48900</td>\n",
              "      <td>626506</td>\n",
              "      <td>6</td>\n",
              "      <td>일</td>\n",
              "    </tr>\n",
              "    <tr>\n",
              "      <th>31</th>\n",
              "      <td>2021-12-04</td>\n",
              "      <td>2</td>\n",
              "      <td>엔칸토: 마법의 세계</td>\n",
              "      <td>47155</td>\n",
              "      <td>393527</td>\n",
              "      <td>5</td>\n",
              "      <td>토</td>\n",
              "    </tr>\n",
              "    <tr>\n",
              "      <th>41</th>\n",
              "      <td>2021-12-05</td>\n",
              "      <td>2</td>\n",
              "      <td>엔칸토: 마법의 세계</td>\n",
              "      <td>44441</td>\n",
              "      <td>437968</td>\n",
              "      <td>6</td>\n",
              "      <td>일</td>\n",
              "    </tr>\n",
              "    <tr>\n",
              "      <th>32</th>\n",
              "      <td>2021-12-04</td>\n",
              "      <td>3</td>\n",
              "      <td>연애 빠진 로맨스</td>\n",
              "      <td>42545</td>\n",
              "      <td>358905</td>\n",
              "      <td>5</td>\n",
              "      <td>토</td>\n",
              "    </tr>\n",
              "    <tr>\n",
              "      <th>...</th>\n",
              "      <td>...</td>\n",
              "      <td>...</td>\n",
              "      <td>...</td>\n",
              "      <td>...</td>\n",
              "      <td>...</td>\n",
              "      <td>...</td>\n",
              "      <td>...</td>\n",
              "    </tr>\n",
              "    <tr>\n",
              "      <th>79</th>\n",
              "      <td>2021-12-08</td>\n",
              "      <td>10</td>\n",
              "      <td>장르만 로맨스</td>\n",
              "      <td>1567</td>\n",
              "      <td>508815</td>\n",
              "      <td>2</td>\n",
              "      <td>수</td>\n",
              "    </tr>\n",
              "    <tr>\n",
              "      <th>68</th>\n",
              "      <td>2021-12-07</td>\n",
              "      <td>9</td>\n",
              "      <td>장르만 로맨스</td>\n",
              "      <td>1518</td>\n",
              "      <td>507248</td>\n",
              "      <td>1</td>\n",
              "      <td>화</td>\n",
              "    </tr>\n",
              "    <tr>\n",
              "      <th>29</th>\n",
              "      <td>2021-12-03</td>\n",
              "      <td>10</td>\n",
              "      <td>귀멸의 칼날: 주합회의·나비저택 편</td>\n",
              "      <td>1367</td>\n",
              "      <td>8054</td>\n",
              "      <td>4</td>\n",
              "      <td>금</td>\n",
              "    </tr>\n",
              "    <tr>\n",
              "      <th>59</th>\n",
              "      <td>2021-12-06</td>\n",
              "      <td>10</td>\n",
              "      <td>킬링 카인드: 킬러의 수제자</td>\n",
              "      <td>1105</td>\n",
              "      <td>7894</td>\n",
              "      <td>0</td>\n",
              "      <td>월</td>\n",
              "    </tr>\n",
              "    <tr>\n",
              "      <th>69</th>\n",
              "      <td>2021-12-07</td>\n",
              "      <td>10</td>\n",
              "      <td>킬링 카인드: 킬러의 수제자</td>\n",
              "      <td>1062</td>\n",
              "      <td>8956</td>\n",
              "      <td>1</td>\n",
              "      <td>화</td>\n",
              "    </tr>\n",
              "  </tbody>\n",
              "</table>\n",
              "<p>100 rows × 7 columns</p>\n",
              "</div>\n",
              "      <button class=\"colab-df-convert\" onclick=\"convertToInteractive('df-f8311288-1862-4f1a-b385-87ccade6a82a')\"\n",
              "              title=\"Convert this dataframe to an interactive table.\"\n",
              "              style=\"display:none;\">\n",
              "        \n",
              "  <svg xmlns=\"http://www.w3.org/2000/svg\" height=\"24px\"viewBox=\"0 0 24 24\"\n",
              "       width=\"24px\">\n",
              "    <path d=\"M0 0h24v24H0V0z\" fill=\"none\"/>\n",
              "    <path d=\"M18.56 5.44l.94 2.06.94-2.06 2.06-.94-2.06-.94-.94-2.06-.94 2.06-2.06.94zm-11 1L8.5 8.5l.94-2.06 2.06-.94-2.06-.94L8.5 2.5l-.94 2.06-2.06.94zm10 10l.94 2.06.94-2.06 2.06-.94-2.06-.94-.94-2.06-.94 2.06-2.06.94z\"/><path d=\"M17.41 7.96l-1.37-1.37c-.4-.4-.92-.59-1.43-.59-.52 0-1.04.2-1.43.59L10.3 9.45l-7.72 7.72c-.78.78-.78 2.05 0 2.83L4 21.41c.39.39.9.59 1.41.59.51 0 1.02-.2 1.41-.59l7.78-7.78 2.81-2.81c.8-.78.8-2.07 0-2.86zM5.41 20L4 18.59l7.72-7.72 1.47 1.35L5.41 20z\"/>\n",
              "  </svg>\n",
              "      </button>\n",
              "      \n",
              "  <style>\n",
              "    .colab-df-container {\n",
              "      display:flex;\n",
              "      flex-wrap:wrap;\n",
              "      gap: 12px;\n",
              "    }\n",
              "\n",
              "    .colab-df-convert {\n",
              "      background-color: #E8F0FE;\n",
              "      border: none;\n",
              "      border-radius: 50%;\n",
              "      cursor: pointer;\n",
              "      display: none;\n",
              "      fill: #1967D2;\n",
              "      height: 32px;\n",
              "      padding: 0 0 0 0;\n",
              "      width: 32px;\n",
              "    }\n",
              "\n",
              "    .colab-df-convert:hover {\n",
              "      background-color: #E2EBFA;\n",
              "      box-shadow: 0px 1px 2px rgba(60, 64, 67, 0.3), 0px 1px 3px 1px rgba(60, 64, 67, 0.15);\n",
              "      fill: #174EA6;\n",
              "    }\n",
              "\n",
              "    [theme=dark] .colab-df-convert {\n",
              "      background-color: #3B4455;\n",
              "      fill: #D2E3FC;\n",
              "    }\n",
              "\n",
              "    [theme=dark] .colab-df-convert:hover {\n",
              "      background-color: #434B5C;\n",
              "      box-shadow: 0px 1px 3px 1px rgba(0, 0, 0, 0.15);\n",
              "      filter: drop-shadow(0px 1px 2px rgba(0, 0, 0, 0.3));\n",
              "      fill: #FFFFFF;\n",
              "    }\n",
              "  </style>\n",
              "\n",
              "      <script>\n",
              "        const buttonEl =\n",
              "          document.querySelector('#df-f8311288-1862-4f1a-b385-87ccade6a82a button.colab-df-convert');\n",
              "        buttonEl.style.display =\n",
              "          google.colab.kernel.accessAllowed ? 'block' : 'none';\n",
              "\n",
              "        async function convertToInteractive(key) {\n",
              "          const element = document.querySelector('#df-f8311288-1862-4f1a-b385-87ccade6a82a');\n",
              "          const dataTable =\n",
              "            await google.colab.kernel.invokeFunction('convertToInteractive',\n",
              "                                                     [key], {});\n",
              "          if (!dataTable) return;\n",
              "\n",
              "          const docLinkHtml = 'Like what you see? Visit the ' +\n",
              "            '<a target=\"_blank\" href=https://colab.research.google.com/notebooks/data_table.ipynb>data table notebook</a>'\n",
              "            + ' to learn more about interactive tables.';\n",
              "          element.innerHTML = '';\n",
              "          dataTable['output_type'] = 'display_data';\n",
              "          await google.colab.output.renderOutput(dataTable, element);\n",
              "          const docLink = document.createElement('div');\n",
              "          docLink.innerHTML = docLinkHtml;\n",
              "          element.appendChild(docLink);\n",
              "        }\n",
              "      </script>\n",
              "    </div>\n",
              "  </div>\n",
              "  "
            ],
            "text/plain": [
              "           일자  순위                  영화명   일관객수   누적관객수  요일 요일명\n",
              "30 2021-12-04   1                유체이탈자  54578  577606   5   토\n",
              "40 2021-12-05   1                유체이탈자  48900  626506   6   일\n",
              "31 2021-12-04   2          엔칸토: 마법의 세계  47155  393527   5   토\n",
              "41 2021-12-05   2          엔칸토: 마법의 세계  44441  437968   6   일\n",
              "32 2021-12-04   3            연애 빠진 로맨스  42545  358905   5   토\n",
              "..        ...  ..                  ...    ...     ...  ..  ..\n",
              "79 2021-12-08  10              장르만 로맨스   1567  508815   2   수\n",
              "68 2021-12-07   9              장르만 로맨스   1518  507248   1   화\n",
              "29 2021-12-03  10  귀멸의 칼날: 주합회의·나비저택 편   1367    8054   4   금\n",
              "59 2021-12-06  10      킬링 카인드: 킬러의 수제자   1105    7894   0   월\n",
              "69 2021-12-07  10      킬링 카인드: 킬러의 수제자   1062    8956   1   화\n",
              "\n",
              "[100 rows x 7 columns]"
            ]
          },
          "metadata": {},
          "execution_count": 51
        }
      ]
    },
    {
      "cell_type": "code",
      "source": [
        "df.groupby('영화명').mean()[['일관객수']].sort_values('일관객수', ascending=False).head(5)"
      ],
      "metadata": {
        "colab": {
          "base_uri": "https://localhost:8080/",
          "height": 238
        },
        "id": "MhQs3AoBHnIA",
        "outputId": "3a429018-38e6-4fa3-f7e6-6e1543abd2d6"
      },
      "execution_count": 56,
      "outputs": [
        {
          "output_type": "execute_result",
          "data": {
            "text/html": [
              "\n",
              "  <div id=\"df-33c6d598-6014-41f9-8f0a-50b86bdaf69a\">\n",
              "    <div class=\"colab-df-container\">\n",
              "      <div>\n",
              "<style scoped>\n",
              "    .dataframe tbody tr th:only-of-type {\n",
              "        vertical-align: middle;\n",
              "    }\n",
              "\n",
              "    .dataframe tbody tr th {\n",
              "        vertical-align: top;\n",
              "    }\n",
              "\n",
              "    .dataframe thead th {\n",
              "        text-align: right;\n",
              "    }\n",
              "</style>\n",
              "<table border=\"1\" class=\"dataframe\">\n",
              "  <thead>\n",
              "    <tr style=\"text-align: right;\">\n",
              "      <th></th>\n",
              "      <th>일관객수</th>\n",
              "    </tr>\n",
              "    <tr>\n",
              "      <th>영화명</th>\n",
              "      <th></th>\n",
              "    </tr>\n",
              "  </thead>\n",
              "  <tbody>\n",
              "    <tr>\n",
              "      <th>유체이탈자</th>\n",
              "      <td>26884.300000</td>\n",
              "    </tr>\n",
              "    <tr>\n",
              "      <th>연애 빠진 로맨스</th>\n",
              "      <td>21680.800000</td>\n",
              "    </tr>\n",
              "    <tr>\n",
              "      <th>엔칸토: 마법의 세계</th>\n",
              "      <td>18186.300000</td>\n",
              "    </tr>\n",
              "    <tr>\n",
              "      <th>고스트버스터즈 라이즈</th>\n",
              "      <td>9786.800000</td>\n",
              "    </tr>\n",
              "    <tr>\n",
              "      <th>돈 룩 업</th>\n",
              "      <td>9352.666667</td>\n",
              "    </tr>\n",
              "  </tbody>\n",
              "</table>\n",
              "</div>\n",
              "      <button class=\"colab-df-convert\" onclick=\"convertToInteractive('df-33c6d598-6014-41f9-8f0a-50b86bdaf69a')\"\n",
              "              title=\"Convert this dataframe to an interactive table.\"\n",
              "              style=\"display:none;\">\n",
              "        \n",
              "  <svg xmlns=\"http://www.w3.org/2000/svg\" height=\"24px\"viewBox=\"0 0 24 24\"\n",
              "       width=\"24px\">\n",
              "    <path d=\"M0 0h24v24H0V0z\" fill=\"none\"/>\n",
              "    <path d=\"M18.56 5.44l.94 2.06.94-2.06 2.06-.94-2.06-.94-.94-2.06-.94 2.06-2.06.94zm-11 1L8.5 8.5l.94-2.06 2.06-.94-2.06-.94L8.5 2.5l-.94 2.06-2.06.94zm10 10l.94 2.06.94-2.06 2.06-.94-2.06-.94-.94-2.06-.94 2.06-2.06.94z\"/><path d=\"M17.41 7.96l-1.37-1.37c-.4-.4-.92-.59-1.43-.59-.52 0-1.04.2-1.43.59L10.3 9.45l-7.72 7.72c-.78.78-.78 2.05 0 2.83L4 21.41c.39.39.9.59 1.41.59.51 0 1.02-.2 1.41-.59l7.78-7.78 2.81-2.81c.8-.78.8-2.07 0-2.86zM5.41 20L4 18.59l7.72-7.72 1.47 1.35L5.41 20z\"/>\n",
              "  </svg>\n",
              "      </button>\n",
              "      \n",
              "  <style>\n",
              "    .colab-df-container {\n",
              "      display:flex;\n",
              "      flex-wrap:wrap;\n",
              "      gap: 12px;\n",
              "    }\n",
              "\n",
              "    .colab-df-convert {\n",
              "      background-color: #E8F0FE;\n",
              "      border: none;\n",
              "      border-radius: 50%;\n",
              "      cursor: pointer;\n",
              "      display: none;\n",
              "      fill: #1967D2;\n",
              "      height: 32px;\n",
              "      padding: 0 0 0 0;\n",
              "      width: 32px;\n",
              "    }\n",
              "\n",
              "    .colab-df-convert:hover {\n",
              "      background-color: #E2EBFA;\n",
              "      box-shadow: 0px 1px 2px rgba(60, 64, 67, 0.3), 0px 1px 3px 1px rgba(60, 64, 67, 0.15);\n",
              "      fill: #174EA6;\n",
              "    }\n",
              "\n",
              "    [theme=dark] .colab-df-convert {\n",
              "      background-color: #3B4455;\n",
              "      fill: #D2E3FC;\n",
              "    }\n",
              "\n",
              "    [theme=dark] .colab-df-convert:hover {\n",
              "      background-color: #434B5C;\n",
              "      box-shadow: 0px 1px 3px 1px rgba(0, 0, 0, 0.15);\n",
              "      filter: drop-shadow(0px 1px 2px rgba(0, 0, 0, 0.3));\n",
              "      fill: #FFFFFF;\n",
              "    }\n",
              "  </style>\n",
              "\n",
              "      <script>\n",
              "        const buttonEl =\n",
              "          document.querySelector('#df-33c6d598-6014-41f9-8f0a-50b86bdaf69a button.colab-df-convert');\n",
              "        buttonEl.style.display =\n",
              "          google.colab.kernel.accessAllowed ? 'block' : 'none';\n",
              "\n",
              "        async function convertToInteractive(key) {\n",
              "          const element = document.querySelector('#df-33c6d598-6014-41f9-8f0a-50b86bdaf69a');\n",
              "          const dataTable =\n",
              "            await google.colab.kernel.invokeFunction('convertToInteractive',\n",
              "                                                     [key], {});\n",
              "          if (!dataTable) return;\n",
              "\n",
              "          const docLinkHtml = 'Like what you see? Visit the ' +\n",
              "            '<a target=\"_blank\" href=https://colab.research.google.com/notebooks/data_table.ipynb>data table notebook</a>'\n",
              "            + ' to learn more about interactive tables.';\n",
              "          element.innerHTML = '';\n",
              "          dataTable['output_type'] = 'display_data';\n",
              "          await google.colab.output.renderOutput(dataTable, element);\n",
              "          const docLink = document.createElement('div');\n",
              "          docLink.innerHTML = docLinkHtml;\n",
              "          element.appendChild(docLink);\n",
              "        }\n",
              "      </script>\n",
              "    </div>\n",
              "  </div>\n",
              "  "
            ],
            "text/plain": [
              "                     일관객수\n",
              "영화명                      \n",
              "유체이탈자        26884.300000\n",
              "연애 빠진 로맨스    21680.800000\n",
              "엔칸토: 마법의 세계  18186.300000\n",
              "고스트버스터즈 라이즈   9786.800000\n",
              "돈 룩 업         9352.666667"
            ]
          },
          "metadata": {},
          "execution_count": 56
        }
      ]
    },
    {
      "cell_type": "code",
      "source": [
        "df.groupby('요일명').mean()[['일관객수']]"
      ],
      "metadata": {
        "colab": {
          "base_uri": "https://localhost:8080/",
          "height": 300
        },
        "id": "rTns72d_Ib46",
        "outputId": "e74294a7-9c47-4285-f8bc-1a76ab70df58"
      },
      "execution_count": 57,
      "outputs": [
        {
          "output_type": "execute_result",
          "data": {
            "text/html": [
              "\n",
              "  <div id=\"df-796c8c92-1cf8-4a5c-ae73-c2f55e401a9f\">\n",
              "    <div class=\"colab-df-container\">\n",
              "      <div>\n",
              "<style scoped>\n",
              "    .dataframe tbody tr th:only-of-type {\n",
              "        vertical-align: middle;\n",
              "    }\n",
              "\n",
              "    .dataframe tbody tr th {\n",
              "        vertical-align: top;\n",
              "    }\n",
              "\n",
              "    .dataframe thead th {\n",
              "        text-align: right;\n",
              "    }\n",
              "</style>\n",
              "<table border=\"1\" class=\"dataframe\">\n",
              "  <thead>\n",
              "    <tr style=\"text-align: right;\">\n",
              "      <th></th>\n",
              "      <th>일관객수</th>\n",
              "    </tr>\n",
              "    <tr>\n",
              "      <th>요일명</th>\n",
              "      <th></th>\n",
              "    </tr>\n",
              "  </thead>\n",
              "  <tbody>\n",
              "    <tr>\n",
              "      <th>금</th>\n",
              "      <td>8978.85</td>\n",
              "    </tr>\n",
              "    <tr>\n",
              "      <th>목</th>\n",
              "      <td>8394.25</td>\n",
              "    </tr>\n",
              "    <tr>\n",
              "      <th>수</th>\n",
              "      <td>9662.85</td>\n",
              "    </tr>\n",
              "    <tr>\n",
              "      <th>월</th>\n",
              "      <td>5886.20</td>\n",
              "    </tr>\n",
              "    <tr>\n",
              "      <th>일</th>\n",
              "      <td>19212.30</td>\n",
              "    </tr>\n",
              "    <tr>\n",
              "      <th>토</th>\n",
              "      <td>21343.90</td>\n",
              "    </tr>\n",
              "    <tr>\n",
              "      <th>화</th>\n",
              "      <td>5659.20</td>\n",
              "    </tr>\n",
              "  </tbody>\n",
              "</table>\n",
              "</div>\n",
              "      <button class=\"colab-df-convert\" onclick=\"convertToInteractive('df-796c8c92-1cf8-4a5c-ae73-c2f55e401a9f')\"\n",
              "              title=\"Convert this dataframe to an interactive table.\"\n",
              "              style=\"display:none;\">\n",
              "        \n",
              "  <svg xmlns=\"http://www.w3.org/2000/svg\" height=\"24px\"viewBox=\"0 0 24 24\"\n",
              "       width=\"24px\">\n",
              "    <path d=\"M0 0h24v24H0V0z\" fill=\"none\"/>\n",
              "    <path d=\"M18.56 5.44l.94 2.06.94-2.06 2.06-.94-2.06-.94-.94-2.06-.94 2.06-2.06.94zm-11 1L8.5 8.5l.94-2.06 2.06-.94-2.06-.94L8.5 2.5l-.94 2.06-2.06.94zm10 10l.94 2.06.94-2.06 2.06-.94-2.06-.94-.94-2.06-.94 2.06-2.06.94z\"/><path d=\"M17.41 7.96l-1.37-1.37c-.4-.4-.92-.59-1.43-.59-.52 0-1.04.2-1.43.59L10.3 9.45l-7.72 7.72c-.78.78-.78 2.05 0 2.83L4 21.41c.39.39.9.59 1.41.59.51 0 1.02-.2 1.41-.59l7.78-7.78 2.81-2.81c.8-.78.8-2.07 0-2.86zM5.41 20L4 18.59l7.72-7.72 1.47 1.35L5.41 20z\"/>\n",
              "  </svg>\n",
              "      </button>\n",
              "      \n",
              "  <style>\n",
              "    .colab-df-container {\n",
              "      display:flex;\n",
              "      flex-wrap:wrap;\n",
              "      gap: 12px;\n",
              "    }\n",
              "\n",
              "    .colab-df-convert {\n",
              "      background-color: #E8F0FE;\n",
              "      border: none;\n",
              "      border-radius: 50%;\n",
              "      cursor: pointer;\n",
              "      display: none;\n",
              "      fill: #1967D2;\n",
              "      height: 32px;\n",
              "      padding: 0 0 0 0;\n",
              "      width: 32px;\n",
              "    }\n",
              "\n",
              "    .colab-df-convert:hover {\n",
              "      background-color: #E2EBFA;\n",
              "      box-shadow: 0px 1px 2px rgba(60, 64, 67, 0.3), 0px 1px 3px 1px rgba(60, 64, 67, 0.15);\n",
              "      fill: #174EA6;\n",
              "    }\n",
              "\n",
              "    [theme=dark] .colab-df-convert {\n",
              "      background-color: #3B4455;\n",
              "      fill: #D2E3FC;\n",
              "    }\n",
              "\n",
              "    [theme=dark] .colab-df-convert:hover {\n",
              "      background-color: #434B5C;\n",
              "      box-shadow: 0px 1px 3px 1px rgba(0, 0, 0, 0.15);\n",
              "      filter: drop-shadow(0px 1px 2px rgba(0, 0, 0, 0.3));\n",
              "      fill: #FFFFFF;\n",
              "    }\n",
              "  </style>\n",
              "\n",
              "      <script>\n",
              "        const buttonEl =\n",
              "          document.querySelector('#df-796c8c92-1cf8-4a5c-ae73-c2f55e401a9f button.colab-df-convert');\n",
              "        buttonEl.style.display =\n",
              "          google.colab.kernel.accessAllowed ? 'block' : 'none';\n",
              "\n",
              "        async function convertToInteractive(key) {\n",
              "          const element = document.querySelector('#df-796c8c92-1cf8-4a5c-ae73-c2f55e401a9f');\n",
              "          const dataTable =\n",
              "            await google.colab.kernel.invokeFunction('convertToInteractive',\n",
              "                                                     [key], {});\n",
              "          if (!dataTable) return;\n",
              "\n",
              "          const docLinkHtml = 'Like what you see? Visit the ' +\n",
              "            '<a target=\"_blank\" href=https://colab.research.google.com/notebooks/data_table.ipynb>data table notebook</a>'\n",
              "            + ' to learn more about interactive tables.';\n",
              "          element.innerHTML = '';\n",
              "          dataTable['output_type'] = 'display_data';\n",
              "          await google.colab.output.renderOutput(dataTable, element);\n",
              "          const docLink = document.createElement('div');\n",
              "          docLink.innerHTML = docLinkHtml;\n",
              "          element.appendChild(docLink);\n",
              "        }\n",
              "      </script>\n",
              "    </div>\n",
              "  </div>\n",
              "  "
            ],
            "text/plain": [
              "         일관객수\n",
              "요일명          \n",
              "금     8978.85\n",
              "목     8394.25\n",
              "수     9662.85\n",
              "월     5886.20\n",
              "일    19212.30\n",
              "토    21343.90\n",
              "화     5659.20"
            ]
          },
          "metadata": {},
          "execution_count": 57
        }
      ]
    },
    {
      "cell_type": "code",
      "source": [
        "import seaborn as sns"
      ],
      "metadata": {
        "id": "q401D-URI3Xe"
      },
      "execution_count": 59,
      "outputs": []
    },
    {
      "cell_type": "code",
      "source": [
        "sns.barplot(x='요일', y='일관객수', data=df)\n",
        "plt.xticks(range(7), labels=['월','화','수','목','금','토','일'])\n",
        "plt.show()"
      ],
      "metadata": {
        "colab": {
          "base_uri": "https://localhost:8080/",
          "height": 284
        },
        "id": "hvQvtMD4Ipy0",
        "outputId": "e78c3011-07f2-4e3d-df3f-f53b931e7bba"
      },
      "execution_count": 61,
      "outputs": [
        {
          "output_type": "display_data",
          "data": {
            "image/png": "[encoded data removed]",
            "text/plain": [
              "<Figure size 432x288 with 1 Axes>"
            ]
          },
          "metadata": {
            "image/png": {
              "width": 400,
              "height": 267
            },
            "needs_background": "light"
          }
        }
      ]
    }
  ]
}