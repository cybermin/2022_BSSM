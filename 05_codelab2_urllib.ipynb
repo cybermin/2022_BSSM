{
  "nbformat": 4,
  "nbformat_minor": 0,
  "metadata": {
    "colab": {
      "name": "05_codelab2_urllib.ipynb",
      "provenance": [],
      "collapsed_sections": [],
      "include_colab_link": true
    },
    "kernelspec": {
      "name": "python3",
      "display_name": "Python 3"
    },
    "language_info": {
      "name": "python"
    }
  },
  "cells": [
    {
      "cell_type": "markdown",
      "metadata": {
        "id": "view-in-github",
        "colab_type": "text"
      },
      "source": [
        "<a href=\"https://colab.research.google.com/github/cybermin/2022_BSSM/blob/main/05_codelab2_urllib.ipynb\" target=\"_parent\"><img src=\"https://colab.research.google.com/assets/colab-badge.svg\" alt=\"Open In Colab\"/></a>"
      ]
    },
    {
      "cell_type": "markdown",
      "source": [
        "\n",
        "---\n",
        "\n",
        "# **해결문제**\n",
        "\n",
        "\n",
        "일별 박스오피스 API 서비스를 이용하여 2020년12월1일~31일 일별박스 오피스 자료를 분석하시오.\n",
        "\n",
        "+ https://www.kobis.or.kr/kobisopenapi/homepg/apiservice/searchServiceInfo.do\n",
        "---"
      ],
      "metadata": {
        "id": "7VhPcEndQMR-"
      }
    },
    {
      "cell_type": "code",
      "source": [
        "#한글 폰트 사용설치\n",
        "%config InlineBackend.figure_format = 'retina'\n",
        "\n",
        "!apt -qq -y install fonts-nanum"
      ],
      "metadata": {
        "colab": {
          "base_uri": "https://localhost:8080/"
        },
        "id": "7hwV8emRXW1z",
        "outputId": "23975ecf-b3a1-4c14-d390-462e5618691b"
      },
      "execution_count": 1,
      "outputs": [
        {
          "output_type": "stream",
          "name": "stdout",
          "text": [
            "fonts-nanum is already the newest version (20170925-1).\n",
            "0 upgraded, 0 newly installed, 0 to remove and 37 not upgraded.\n"
          ]
        }
      ]
    },
    {
      "cell_type": "code",
      "source": [
        "import matplotlib.pyplot as plt\n",
        "import matplotlib as mpl\n",
        "import matplotlib.font_manager as fm\n",
        "fontpath = '/usr/share/fonts/truetype/nanum/NanumBarunGothic.ttf'\n",
        "font = fm.FontProperties(fname=fontpath, size=9)\n",
        "plt.rc('font', family='NanumBarunGothic') \n",
        "mpl.font_manager._rebuild()"
      ],
      "metadata": {
        "id": "kfPUahIzXaNB"
      },
      "execution_count": 2,
      "outputs": []
    },
    {
      "cell_type": "code",
      "source": [
        "plt.title('한글')\n",
        "plt.show()"
      ],
      "metadata": {
        "colab": {
          "base_uri": "https://localhost:8080/",
          "height": 282
        },
        "id": "RY2nf3uwXc98",
        "outputId": "94d146a0-0994-426a-8606-09dcb12f8ab9"
      },
      "execution_count": 3,
      "outputs": [
        {
          "output_type": "display_data",
          "data": {
            "image/png": "[encoded data removed]",
            "text/plain": [
              "<Figure size 432x288 with 1 Axes>"
            ]
          },
          "metadata": {
            "image/png": {
              "width": 378,
              "height": 265
            },
            "needs_background": "light"
          }
        }
      ]
    },
    {
      "cell_type": "markdown",
      "metadata": {
        "id": "7moL-iWT_MUw"
      },
      "source": [
        "#urllib 모듈\n",
        "+ URL과 웹 요청에 관련된 모듈들 패키지로 묶어 제공"
      ]
    },
    {
      "cell_type": "markdown",
      "metadata": {
        "id": "P2nLzn8h_P2L"
      },
      "source": [
        "## urllib.request 모듈\n",
        "* 웹 페이지 요청 및 데이터를 가져올 수 있음"
      ]
    },
    {
      "cell_type": "markdown",
      "metadata": {
        "id": "SiBFl2GU_ih3"
      },
      "source": [
        "### urllib.request.urlopen(url, data)\n",
        "* 웹 서버에 정보를 요청한 후, 돌려받은 응답을 저장하여 ‘**응답 객체(HTTPResponse)**’를 반환\n",
        "* data는 서버로 전송할 추가 데이터를 지정하는 객체\n",
        "* 반환된 응답 객체:  read() 메서드를 실행\n",
        "   - 웹 서버가 응답한 데이터를 바이트 배열로 읽어들임\n",
        "   - 읽어들인 바이트 배열 : 이진수로 이루어진 수열이어서 **텍스트 형식의 데이터를 decode('utf-8') 메서드를 실행하여 문자열로 변환**\n",
        "\n",
        "* 참고) **Byte 데이터**\n",
        "  + 1바이트(0~255사이 코드)로 표현되는 문자 표현\n",
        "  + 문자열에서 사용하는 연산을 거의 제공\n",
        "    - 인덱싱/슬라이싱, in, Upper(), Split()\n",
        "  + 지원 메소드\n",
        "    - **decode(인코딩값)** : 바이트->문자열로 변환  \n",
        "    - **encode()** : 문자열->바이트로 변환  \n"
      ]
    },
    {
      "cell_type": "markdown",
      "metadata": {
        "id": "Ji2KEhafDwtU"
      },
      "source": [
        "### urllib.request.Request(url, headers={})\n",
        "* POST방식으로 데이터를 보내려고 할 경우 \n",
        "  + URL : 요청 주소\n",
        "  * headers : 딕셔너리형태의 헤더"
      ]
    },
    {
      "cell_type": "markdown",
      "source": [
        "+ 2021년 12월 1일에서 31일까지 일일박스오프자료를 추출해서 CSV저장"
      ],
      "metadata": {
        "id": "gT4JheRLSCVb"
      }
    },
    {
      "cell_type": "code",
      "metadata": {
        "id": "pPOHa5HA-7W0"
      },
      "source": [
        "from urllib.request import Request, urlopen\n",
        "import json  "
      ],
      "execution_count": null,
      "outputs": []
    },
    {
      "cell_type": "code",
      "source": [
        "url = 'http://kobis.or.kr/kobisopenapi/webservice/rest/boxoffice/searchDailyBoxOfficeList.json?key=f5eef3421c602c6cb7ea224104795888&targetDt=20220103'"
      ],
      "metadata": {
        "id": "C36uClNSIRfv"
      },
      "execution_count": null,
      "outputs": []
    },
    {
      "cell_type": "code",
      "source": [
        "rsp = urlopen(url).read().decode('utf-8')\n",
        "rsp"
      ],
      "metadata": {
        "id": "1nYLsZdbKqAH"
      },
      "execution_count": null,
      "outputs": []
    },
    {
      "cell_type": "code",
      "source": [
        "#json형태의 문자열 dict형태로 변경\n",
        "mvdt = json.loads(rsp)\n",
        "type(mvdt)"
      ],
      "metadata": {
        "colab": {
          "base_uri": "https://localhost:8080/"
        },
        "id": "p264n4emKcQb",
        "outputId": "dc5af4d2-48e3-47ba-b24d-02ff8d7d23d4"
      },
      "execution_count": null,
      "outputs": [
        {
          "output_type": "execute_result",
          "data": {
            "text/plain": [
              "dict"
            ]
          },
          "metadata": {},
          "execution_count": 16
        }
      ]
    },
    {
      "cell_type": "code",
      "source": [
        "mvlt = mvdt['boxOfficeResult']['dailyBoxOfficeList']\n",
        "type(mvlt)"
      ],
      "metadata": {
        "colab": {
          "base_uri": "https://localhost:8080/"
        },
        "id": "nIshK1I9LJBi",
        "outputId": "9fb5495b-5afd-42ff-e84e-adf8843a5108"
      },
      "execution_count": null,
      "outputs": [
        {
          "output_type": "execute_result",
          "data": {
            "text/plain": [
              "list"
            ]
          },
          "metadata": {},
          "execution_count": 19
        }
      ]
    },
    {
      "cell_type": "code",
      "source": [
        "for item in mvlt:\n",
        "  d = mvdt['boxOfficeResult'][\"showRange\"][:4] + '-' + mvdt['boxOfficeResult'][\"showRange\"][4:6] +'-'+ mvdt['boxOfficeResult'][\"showRange\"][6:8]\n",
        "  print( d, item[\"rank\"], item['movieNm'], item['audiCnt'] , item['audiAcc'])"
      ],
      "metadata": {
        "colab": {
          "base_uri": "https://localhost:8080/"
        },
        "id": "FQXg5ixoLeel",
        "outputId": "0dda9eee-0f17-4379-c844-5a53e31fcc23"
      },
      "execution_count": null,
      "outputs": [
        {
          "output_type": "stream",
          "name": "stdout",
          "text": [
            "2022-01-03 1 스파이더맨: 노 웨이 홈 66799 6141100\n",
            "2022-01-03 2 킹스맨: 퍼스트 에이전트 23748 800139\n",
            "2022-01-03 3 해피 뉴 이어 10181 196396\n",
            "2022-01-03 4 매트릭스: 리저렉션 1843 204748\n",
            "2022-01-03 5 드라이브 마이 카 1105 23696\n",
            "2022-01-03 6 신데렐라 2: 마법에 걸린 왕자 1022 36771\n",
            "2022-01-03 7 엔칸토: 마법의 세계 897 627528\n",
            "2022-01-03 8 램 533 11058\n",
            "2022-01-03 9 괴짜들의 로맨스 350 8101\n",
            "2022-01-03 10 씽2게더 267 557\n"
          ]
        }
      ]
    },
    {
      "cell_type": "markdown",
      "source": [
        "---\n",
        "\n",
        "# **해결문제**\n",
        "\n",
        "\n",
        "일별 박스오피스 API 서비스를 이용하여 2020년12월1일~31일 일별박스 오피스 자료를 분석하시오.\n",
        "\n",
        "+ https://www.kobis.or.kr/kobisopenapi/homepg/apiservice/searchServiceInfo.do\n",
        "---"
      ],
      "metadata": {
        "id": "Gr4S-ob_golt"
      }
    },
    {
      "cell_type": "code",
      "source": [
        "from google.colab import drive\n",
        "drive.mount('/content/drive')"
      ],
      "metadata": {
        "colab": {
          "base_uri": "https://localhost:8080/"
        },
        "id": "bOLCrVWalLnP",
        "outputId": "643bbb99-d73a-4433-bdcc-3380f90f450c"
      },
      "execution_count": 1,
      "outputs": [
        {
          "output_type": "stream",
          "name": "stdout",
          "text": [
            "Mounted at /content/drive\n"
          ]
        }
      ]
    },
    {
      "cell_type": "code",
      "source": [
        "list(range(1,32))"
      ],
      "metadata": {
        "id": "bHmeKqnbmjxN"
      },
      "execution_count": null,
      "outputs": []
    },
    {
      "cell_type": "code",
      "source": [
        "#파이썬 반복문 \n",
        "for i  in range(1,32) :\n",
        "  print(i, end=' ')"
      ],
      "metadata": {
        "colab": {
          "base_uri": "https://localhost:8080/"
        },
        "id": "IEIjxz5Vgmki",
        "outputId": "75b18bbb-bff0-43ff-c1bc-3981ce6effae"
      },
      "execution_count": 8,
      "outputs": [
        {
          "output_type": "stream",
          "name": "stdout",
          "text": [
            "1 2 3 4 5 6 7 8 9 10 11 12 13 14 15 16 17 18 19 20 21 22 23 24 25 26 27 28 29 30 31 "
          ]
        }
      ]
    },
    {
      "cell_type": "code",
      "source": [
        "#1~31까지 숫자를 2자리 문자열로 만들기 \n",
        "for i  in range(1,32) :\n",
        "  if i < 10 : n = '0' + str(i)\n",
        "  else : n = str(i)\n",
        "\n",
        "  print(n, end=' ')"
      ],
      "metadata": {
        "colab": {
          "base_uri": "https://localhost:8080/"
        },
        "id": "XxXJLHRgnRNf",
        "outputId": "8f5e8e4f-e38f-4846-b0bf-8300c26e79b5"
      },
      "execution_count": 9,
      "outputs": [
        {
          "output_type": "stream",
          "name": "stdout",
          "text": [
            "01 02 03 04 05 06 07 08 09 10 11 12 13 14 15 16 17 18 19 20 21 22 23 24 25 26 27 28 29 30 31 "
          ]
        }
      ]
    },
    {
      "cell_type": "code",
      "source": [
        "#1~31까지 숫자를 2자리 문자열로 만들기 : 파이썬 포멧\n",
        "for i  in range(1,32) :\n",
        "  #n = '{:02d}'.format(i)\n",
        "  n = f'{i:02d}'\n",
        "\n",
        "  print(n, end=' ')"
      ],
      "metadata": {
        "colab": {
          "base_uri": "https://localhost:8080/"
        },
        "id": "_HbNb6pPoA1t",
        "outputId": "d1fe9014-7b0b-410f-e1ff-89a3f88caffb"
      },
      "execution_count": 11,
      "outputs": [
        {
          "output_type": "stream",
          "name": "stdout",
          "text": [
            "01 02 03 04 05 06 07 08 09 10 11 12 13 14 15 16 17 18 19 20 21 22 23 24 25 26 27 28 29 30 31 "
          ]
        }
      ]
    },
    {
      "cell_type": "code",
      "source": [
        "from urllib.request import Request, urlopen\n",
        "import json "
      ],
      "metadata": {
        "id": "MrLtA0uQwtDP"
      },
      "execution_count": 18,
      "outputs": []
    },
    {
      "cell_type": "code",
      "source": [
        "#함수 \n",
        "def mvApi(n) :\n",
        "  #url =  'http://kobis.or.kr/kobisopenapi/webservice/rest/boxoffice/searchDailyBoxOfficeList.json?key=f5eef3421c602c6cb7ea224104795888&targetDt=202112' + n\n",
        "  url =  'http://kobis.or.kr/kobisopenapi/webservice/rest/boxoffice/searchDailyBoxOfficeList.json?'\n",
        "  url = url + 'key=' + 'f5eef3421c602c6cb7ea224104795888'\n",
        "  url = url + '&targetDt=202112' + n\n",
        "\n",
        "  #웹상에서 제공되는 json형태의 자료가져오기\n",
        "  resp = urlopen(url).read().decode('utf-8')\n",
        "\n",
        "  #파이썬의 딕션너리 형태로 변형 \n",
        "  mvdt = json.loads(resp)\n",
        "\n",
        "  #딕션너리에서 자료 가져오기\n",
        "  boxOfficeResult = mvdt['boxOfficeResult']\n",
        "\n",
        "  #일자 만들기\n",
        "  showRange = boxOfficeResult['showRange']\n",
        "  day = showRange[:4] + '-' + showRange[4:6] + '-' + showRange[6:8]\n",
        "\n",
        "  #박스오피스 영화\n",
        "  dailyBoxOfficeList = boxOfficeResult['dailyBoxOfficeList']\n",
        "\n",
        "  lines = ''\n",
        "  for item in dailyBoxOfficeList :\n",
        "    lines = lines + f\"{day},{item['rank']},{item['movieNm']},{item['audiCnt']},{item['audiAcc']}\\n\"\n",
        "\n",
        "\n",
        "  return lines"
      ],
      "metadata": {
        "id": "7rzYr-17qrDq"
      },
      "execution_count": 34,
      "outputs": []
    },
    {
      "cell_type": "code",
      "source": [
        "#csv 파일 만들기 \n",
        "with open('/content/drive/MyDrive/BSSM/BSSM2022/data/mv.csv', 'w') as fp :\n",
        "  fp.write('일자,순위,영화명,일관객수,누적관객수\\n')\n",
        "\n",
        "with open('/content/drive/MyDrive/BSSM/BSSM2022/data/mv.csv', 'a') as fp :\n",
        "  for i  in range(1,11) :\n",
        "    n = f'{i:02d}'\n",
        "    lines = mvApi(n)\n",
        "\n",
        "    print(lines)\n",
        "    fp.write(lines)"
      ],
      "metadata": {
        "colab": {
          "base_uri": "https://localhost:8080/"
        },
        "id": "b5zTcKPe2ZqE",
        "outputId": "eb38b1b6-28ce-4e8d-f94c-02bfbc16126b"
      },
      "execution_count": 39,
      "outputs": [
        {
          "output_type": "stream",
          "name": "stdout",
          "text": [
            "2021-12-01,1,유체이탈자,28158,468281\n",
            "2021-12-01,2,연애 빠진 로맨스,20372,275782\n",
            "2021-12-01,3,고스트버스터즈 라이즈,20063,20608\n",
            "2021-12-01,4,엔칸토: 마법의 세계,14353,316689\n",
            "2021-12-01,5,라스트 나잇 인 소호,10291,10655\n",
            "2021-12-01,6,듄,8817,1443342\n",
            "2021-12-01,7,태일이,8121,67584\n",
            "2021-12-01,8,귀멸의 칼날: 주합회의·나비저택 편,5234,5234\n",
            "2021-12-01,9,이터널스,4625,3003717\n",
            "2021-12-01,10,장르만 로맨스,3382,487203\n",
            "\n",
            "2021-12-02,1,유체이탈자,25597,493878\n",
            "2021-12-02,2,연애 빠진 로맨스,18660,294442\n",
            "2021-12-02,3,엔칸토: 마법의 세계,13484,330173\n",
            "2021-12-02,4,고스트버스터즈 라이즈,11901,32509\n",
            "2021-12-02,5,듄,7977,1451319\n",
            "2021-12-02,6,라스트 나잇 인 소호,7237,17892\n",
            "2021-12-02,7,태일이,4516,72100\n",
            "2021-12-02,8,이터널스,3821,3007538\n",
            "2021-12-02,9,장르만 로맨스,3729,490932\n",
            "2021-12-02,10,뱅드림! 필름 라이브 세컨드 스테이지,2347,19943\n",
            "\n",
            "2021-12-03,1,유체이탈자,29150,523028\n",
            "2021-12-03,2,연애 빠진 로맨스,21918,316360\n",
            "2021-12-03,3,엔칸토: 마법의 세계,16199,346372\n",
            "2021-12-03,4,고스트버스터즈 라이즈,10969,43478\n",
            "2021-12-03,5,듄,10296,1461615\n",
            "2021-12-03,6,라스트 나잇 인 소호,4865,22757\n",
            "2021-12-03,7,이터널스,4715,3012253\n",
            "2021-12-03,8,태일이,3728,75828\n",
            "2021-12-03,9,장르만 로맨스,3623,494555\n",
            "2021-12-03,10,귀멸의 칼날: 주합회의·나비저택 편,1367,8054\n",
            "\n",
            "2021-12-04,1,유체이탈자,54578,577606\n",
            "2021-12-04,2,엔칸토: 마법의 세계,47155,393527\n",
            "2021-12-04,3,연애 빠진 로맨스,42545,358905\n",
            "2021-12-04,4,고스트버스터즈 라이즈,20217,63695\n",
            "2021-12-04,5,듄,17983,1479598\n",
            "2021-12-04,6,이터널스,8133,3020386\n",
            "2021-12-04,7,귀멸의 칼날: 주합회의·나비저택 편,6774,14828\n",
            "2021-12-04,8,라스트 나잇 인 소호,6033,28790\n",
            "2021-12-04,9,태일이,5080,80908\n",
            "2021-12-04,10,장르만 로맨스,4941,499496\n",
            "\n",
            "2021-12-05,1,유체이탈자,48900,626506\n",
            "2021-12-05,2,엔칸토: 마법의 세계,44441,437968\n",
            "2021-12-05,3,연애 빠진 로맨스,40766,399671\n",
            "2021-12-05,4,고스트버스터즈 라이즈,16450,80145\n",
            "2021-12-05,5,듄,15866,1495464\n",
            "2021-12-05,6,이터널스,7611,3027997\n",
            "2021-12-05,7,라스트 나잇 인 소호,5065,33855\n",
            "2021-12-05,8,태일이,5023,85931\n",
            "2021-12-05,9,장르만 로맨스,4556,504052\n",
            "2021-12-05,10,귀멸의 칼날: 주합회의·나비저택 편,3445,18273\n",
            "\n",
            "2021-12-06,1,유체이탈자,18719,645225\n",
            "2021-12-06,2,연애 빠진 로맨스,13200,412871\n",
            "2021-12-06,3,엔칸토: 마법의 세계,8543,446511\n",
            "2021-12-06,4,듄,4749,1500213\n",
            "2021-12-06,5,고스트버스터즈 라이즈,4444,84589\n",
            "2021-12-06,6,라스트 나잇 인 소호,2335,36190\n",
            "2021-12-06,7,이터널스,2245,3030242\n",
            "2021-12-06,8,태일이,1844,87775\n",
            "2021-12-06,9,장르만 로맨스,1678,505730\n",
            "2021-12-06,10,킬링 카인드: 킬러의 수제자,1105,7894\n",
            "\n",
            "2021-12-07,1,유체이탈자,15877,661102\n",
            "2021-12-07,2,연애 빠진 로맨스,12404,425275\n",
            "2021-12-07,3,엔칸토: 마법의 세계,8612,455123\n",
            "2021-12-07,4,고스트버스터즈 라이즈,4929,89518\n",
            "2021-12-07,5,듄,4821,1505034\n",
            "2021-12-07,6,태일이,2945,90720\n",
            "2021-12-07,7,라스트 나잇 인 소호,2253,38443\n",
            "2021-12-07,8,이터널스,2171,3032413\n",
            "2021-12-07,9,장르만 로맨스,1518,507248\n",
            "2021-12-07,10,킬링 카인드: 킬러의 수제자,1062,8956\n",
            "\n",
            "2021-12-08,1,유체이탈자,14159,675261\n",
            "2021-12-08,2,연애 빠진 로맨스,13418,438693\n",
            "2021-12-08,3,돈 룩 업,12265,12437\n",
            "2021-12-08,4,엔칸토: 마법의 세계,9837,464960\n",
            "2021-12-08,5,몬스타엑스 : 더 드리밍,7464,7464\n",
            "2021-12-08,6,듄,3984,1509018\n",
            "2021-12-08,7,고스트버스터즈 라이즈,3380,92898\n",
            "2021-12-08,8,태일이,1958,92678\n",
            "2021-12-08,9,이터널스,1809,3034222\n",
            "2021-12-08,10,장르만 로맨스,1567,508815\n",
            "\n",
            "2021-12-09,1,유체이탈자,15957,691218\n",
            "2021-12-09,2,연애 빠진 로맨스,15138,453831\n",
            "2021-12-09,3,엔칸토: 마법의 세계,8364,473324\n",
            "2021-12-09,4,돈 룩 업,7767,20204\n",
            "2021-12-09,5,극장판 소드 아트 온라인 -프로그레시브- 별 없는 밤의 아리아,5749,5749\n",
            "2021-12-09,6,몬스타엑스 : 더 드리밍,4076,11540\n",
            "2021-12-09,7,듄,3495,1512513\n",
            "2021-12-09,8,리슨,2887,3085\n",
            "2021-12-09,9,고스트버스터즈 라이즈,2771,95669\n",
            "2021-12-09,10,태일이,2412,95090\n",
            "\n",
            "2021-12-10,1,연애 빠진 로맨스,18387,472218\n",
            "2021-12-10,2,유체이탈자,17748,708966\n",
            "2021-12-10,3,엔칸토: 마법의 세계,10875,484199\n",
            "2021-12-10,4,돈 룩 업,8026,28230\n",
            "2021-12-10,5,듄,5603,1518116\n",
            "2021-12-10,6,고스트버스터즈 라이즈,2744,98413\n",
            "2021-12-10,7,몬스타엑스 : 더 드리밍,2628,14168\n",
            "2021-12-10,8,극장판 소드 아트 온라인 -프로그레시브- 별 없는 밤의 아리아,2611,8360\n",
            "2021-12-10,9,이터널스,2074,3037929\n",
            "2021-12-10,10,마이 뉴욕 다이어리,2051,6372\n",
            "\n"
          ]
        }
      ]
    },
    {
      "cell_type": "code",
      "source": [
        "for i  in range(1,5) :\n",
        "  n = f'{i:02d}'\n",
        "  lines = mvApi(n)\n",
        "\n",
        "  print(url)"
      ],
      "metadata": {
        "colab": {
          "base_uri": "https://localhost:8080/"
        },
        "id": "t0-v8eCprAwd",
        "outputId": "34912954-54a8-4cc7-df48-ac7900aef272"
      },
      "execution_count": 36,
      "outputs": [
        {
          "output_type": "stream",
          "name": "stdout",
          "text": [
            "2021-12-01,1,유체이탈자,28158,468281\n",
            "2021-12-01,2,연애 빠진 로맨스,20372,275782\n",
            "2021-12-01,3,고스트버스터즈 라이즈,20063,20608\n",
            "2021-12-01,4,엔칸토: 마법의 세계,14353,316689\n",
            "2021-12-01,5,라스트 나잇 인 소호,10291,10655\n",
            "2021-12-01,6,듄,8817,1443342\n",
            "2021-12-01,7,태일이,8121,67584\n",
            "2021-12-01,8,귀멸의 칼날: 주합회의·나비저택 편,5234,5234\n",
            "2021-12-01,9,이터널스,4625,3003717\n",
            "2021-12-01,10,장르만 로맨스,3382,487203\n",
            "\n",
            "2021-12-02,1,유체이탈자,25597,493878\n",
            "2021-12-02,2,연애 빠진 로맨스,18660,294442\n",
            "2021-12-02,3,엔칸토: 마법의 세계,13484,330173\n",
            "2021-12-02,4,고스트버스터즈 라이즈,11901,32509\n",
            "2021-12-02,5,듄,7977,1451319\n",
            "2021-12-02,6,라스트 나잇 인 소호,7237,17892\n",
            "2021-12-02,7,태일이,4516,72100\n",
            "2021-12-02,8,이터널스,3821,3007538\n",
            "2021-12-02,9,장르만 로맨스,3729,490932\n",
            "2021-12-02,10,뱅드림! 필름 라이브 세컨드 스테이지,2347,19943\n",
            "\n",
            "2021-12-03,1,유체이탈자,29150,523028\n",
            "2021-12-03,2,연애 빠진 로맨스,21918,316360\n",
            "2021-12-03,3,엔칸토: 마법의 세계,16199,346372\n",
            "2021-12-03,4,고스트버스터즈 라이즈,10969,43478\n",
            "2021-12-03,5,듄,10296,1461615\n",
            "2021-12-03,6,라스트 나잇 인 소호,4865,22757\n",
            "2021-12-03,7,이터널스,4715,3012253\n",
            "2021-12-03,8,태일이,3728,75828\n",
            "2021-12-03,9,장르만 로맨스,3623,494555\n",
            "2021-12-03,10,귀멸의 칼날: 주합회의·나비저택 편,1367,8054\n",
            "\n",
            "2021-12-04,1,유체이탈자,54578,577606\n",
            "2021-12-04,2,엔칸토: 마법의 세계,47155,393527\n",
            "2021-12-04,3,연애 빠진 로맨스,42545,358905\n",
            "2021-12-04,4,고스트버스터즈 라이즈,20217,63695\n",
            "2021-12-04,5,듄,17983,1479598\n",
            "2021-12-04,6,이터널스,8133,3020386\n",
            "2021-12-04,7,귀멸의 칼날: 주합회의·나비저택 편,6774,14828\n",
            "2021-12-04,8,라스트 나잇 인 소호,6033,28790\n",
            "2021-12-04,9,태일이,5080,80908\n",
            "2021-12-04,10,장르만 로맨스,4941,499496\n",
            "\n"
          ]
        }
      ]
    }
  ]
}