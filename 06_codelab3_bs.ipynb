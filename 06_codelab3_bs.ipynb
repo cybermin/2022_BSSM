{
  "nbformat": 4,
  "nbformat_minor": 0,
  "metadata": {
    "colab": {
      "name": "06_codelab3_bs.ipynb",
      "provenance": [],
      "collapsed_sections": [],
      "mount_file_id": "1-ohu97_c9kWZ6VKC6dVv2c1D-IfozwmA",
      "authorship_tag": "ABX9TyMNzRcKFcGT8R00RQUxSGM3",
      "include_colab_link": true
    },
    "kernelspec": {
      "name": "python3",
      "display_name": "Python 3"
    },
    "language_info": {
      "name": "python"
    }
  },
  "cells": [
    {
      "cell_type": "markdown",
      "metadata": {
        "id": "view-in-github",
        "colab_type": "text"
      },
      "source": [
        "<a href=\"https://colab.research.google.com/github/cybermin/2022_BSSM/blob/main/06_codelab3_bs.ipynb\" target=\"_parent\"><img src=\"https://colab.research.google.com/assets/colab-badge.svg\" alt=\"Open In Colab\"/></a>"
      ]
    },
    {
      "cell_type": "markdown",
      "metadata": {
        "id": "ujvDcnX-o9-W"
      },
      "source": [
        "🏷️ **웹 동작원리**\n",
        "\n",
        "\n",
        "---\n",
        "<img src ='https://drive.google.com/uc?export=view&id=1amZ78fUnfp3o5Q1XVKDG3eAAzKaYlPrp'>\n",
        "\n",
        "---"
      ]
    },
    {
      "cell_type": "markdown",
      "metadata": {
        "id": "yaRwPjIG0UbX"
      },
      "source": [
        "# Beautiful Soup 모듈\n",
        "+ HTML 및 XML 문서 를 구문 분석하기 위한 Python 패키지\n",
        "+ DOM 추출\n",
        "+ 기본적으로 UTF-8 인코딩 방식이지만 CP949도 지원"
      ]
    },
    {
      "cell_type": "markdown",
      "metadata": {
        "id": "qXgcvJCO1XM6"
      },
      "source": [
        "🏷️ **웹 스크래핑(Web Scraping)과 웹 크롤링(Web Crawling)**\n",
        "\n",
        "\n",
        "---\n",
        "+ 웹 스크래핑(Web Scraping) : 웹 사이트 상에서 원하는 정보를 추출하는 기술\n",
        "+ 웹 크롤링(Web Crawling) : 웹 크롤러(자동화봇)가정해진 규칙에 따라 웹 페이지를 수집해서 각 사이트의 정보를 분류하는 기술\n",
        "\n",
        "\n",
        "\n",
        "\n",
        "---\n",
        "\n",
        "\n"
      ]
    },
    {
      "cell_type": "markdown",
      "metadata": {
        "id": "7U-axA1K3yaR"
      },
      "source": [
        "## BeautifulSoup 모듈을 활용한 스크래핑"
      ]
    },
    {
      "cell_type": "markdown",
      "metadata": {
        "id": "a2-66aK64FqU"
      },
      "source": [
        "### 1. 웹 페이지 가져오기"
      ]
    },
    {
      "cell_type": "code",
      "metadata": {
        "colab": {
          "base_uri": "https://localhost:8080/",
          "height": 53
        },
        "id": "qSqcLjpt0NZH",
        "outputId": "7a3e4269-bf93-43c5-fb6f-e073a184c62a"
      },
      "source": [
        "from urllib.request import urlopen\n",
        "\n",
        "url = 'https://news.daum.net/ranking/popular'\n",
        "webpage = urlopen(url).read().decode('utf-8')\n",
        "webpage[:200]"
      ],
      "execution_count": null,
      "outputs": [
        {
          "output_type": "execute_result",
          "data": {
            "application/vnd.google.colaboratory.intrinsic+json": {
              "type": "string"
            },
            "text/plain": [
              "'\\n<!DOCTYPE html>\\n\\n\\n\\n<html lang=\"ko\" class=\"os_unknown none unknown version_0 \">\\n<head>\\n<meta charset=\"utf-8\">\\n<meta name=\"referrer\" content=\"always\" />\\n\\n<meta property=\"og:author\" content=\"Daum 뉴스\" />'"
            ]
          },
          "metadata": {
            "tags": []
          },
          "execution_count": 1
        }
      ]
    },
    {
      "cell_type": "markdown",
      "metadata": {
        "id": "UiUuj4XA46HA"
      },
      "source": [
        "### 2. BeautifulSoup 객체 생성\n",
        "\n",
        "```python\n",
        "from bs4 import BeautifulSoup as bs\n",
        "\n",
        "인스턴스명 = BeautifulSoup(markup, parser)\n",
        "```\n",
        "* 첫 번째 인자 : HTML 형식의 문자열\n",
        "* 두 번째 인자 : 첫 번째 인자의 문자열을 해석하기 위한 파서\n",
        "\n",
        "  * **파서(parser) 종류**\n",
        "    + html.parser : 파이썬 표준 라이브러리에 포함된 파서로 빠르지만 유연하지 않기 때문에 단순한 HTML문서에 사용\n",
        "\n",
        "        ```\n",
        "        BeautifulSoup(markup, \"html.parser\")\n",
        "        ```\n",
        "\n",
        "    + lxml : 매우 빠르고 유연하지만 외부 의존\n",
        "      - lxml의 HTML 파서\n",
        "          ```\n",
        "          BeautifulSoup(markup, \"lxml\")\n",
        "          ```\n",
        "      - lxml의 XML 파서\n",
        "          ```\n",
        "          BeautifulSoup(markup, \"lxml-xml\")\n",
        "          ```\n",
        "\n",
        "    + html5lib : 웹 브라우저와 동일한 방식으로 페이지 구문 분석하는 파서로 매우 느리지만 매우 유연하지만 외부 의존\n",
        "        ```\n",
        "        BeautifulSoup(markup, \"html5lib\")\n",
        "      ```"
      ]
    },
    {
      "cell_type": "code",
      "metadata": {
        "id": "yBCdkhy15Vrr"
      },
      "source": [
        "from bs4 import BeautifulSoup as bs\n",
        "\n",
        "html = bs(webpage, 'html.parser')"
      ],
      "execution_count": null,
      "outputs": []
    },
    {
      "cell_type": "code",
      "metadata": {
        "colab": {
          "base_uri": "https://localhost:8080/"
        },
        "id": "NqqduTmfu_y1",
        "outputId": "2199780c-a400-4298-962e-99a18213e7f5"
      },
      "source": [
        "type(html)"
      ],
      "execution_count": null,
      "outputs": [
        {
          "output_type": "execute_result",
          "data": {
            "text/plain": [
              "bs4.BeautifulSoup"
            ]
          },
          "metadata": {
            "tags": []
          },
          "execution_count": 3
        }
      ]
    },
    {
      "cell_type": "markdown",
      "metadata": {
        "id": "ZvinaJXV5ZDP"
      },
      "source": [
        "### 2. **Beautiful Soup 파싱 메소드**\n",
        "+ 태그명\n",
        "  + **.find(태그명)** : 조건에 맞는 태그 1개만 찾음\n",
        "  + **.find_all(태그명)** : 조건에 맞는 모든 태그 찾음\n",
        "+ css선택자\n",
        "  + **.select_one(선택자)** : 조건에 맞는 CSS선택자 1개만 찾음\n",
        "  + **.select(선택자)** : 조건에 맞는 CSS선택자 찾음"
      ]
    },
    {
      "cell_type": "markdown",
      "metadata": {
        "id": "KtEAsQTx72Ab"
      },
      "source": [
        "🏷️ **HTML과 CSS**\n",
        "\n",
        "\n",
        "---\n",
        "\n",
        "\n",
        "\n",
        "+ **HTML(Hyper Text Markup Language)**\n",
        "  + 웹페이지 상에서 문단, 제목, 표, 이미지, 동영상 등을 정의하고 웹페이지 내용을 구조화하고 의미를 부여하는 마크업 언어\n",
        "+ **CSS(Cascading Style Sheet)**\n",
        "  + 색상, 레이아웃 및 글꼴등 웹페이지의 디자인 요소를 담당하는 선언형 언어로 스타일 시트(Style Sheet)라고도 하고, HTML로 작성된 웹페이지를 보기 좋게 꾸며주는 스타일 규칙 언어\n",
        "\n",
        "+ 참고 사이트 : <https://www.w3schools.com/>\n",
        "\n",
        "\n",
        "---\n",
        "\n"
      ]
    },
    {
      "cell_type": "markdown",
      "metadata": {
        "id": "IrOBlRCZxdcd"
      },
      "source": [
        "#mArticle > div.rank_news > ul.list_news2 > li"
      ]
    },
    {
      "cell_type": "code",
      "metadata": {
        "colab": {
          "base_uri": "https://localhost:8080/"
        },
        "id": "CU0NvcF06bOt",
        "outputId": "cadebaa1-09fa-4caf-b0ee-fc96d3669130"
      },
      "source": [
        "lis = html.select('#mArticle > div.rank_news > ul.list_news2 > li')\n",
        "print(type(lis), ' 요소 수 : ', len(lis))\n",
        "print(lis[0])"
      ],
      "execution_count": null,
      "outputs": [
        {
          "output_type": "stream",
          "text": [
            "<class 'list'>  요소 수 :  50\n",
            "<li data-tiara-layer=\"news_list\" data-tiara-ordnum=\"1\" data-tiara-type=\"article\">\n",
            "<div class=\"rank_num rank_popular\">\n",
            "<span class=\"wrap_num\">\n",
            "<span class=\"num_rank\">\n",
            "<span class=\"num_news num1\"></span>\n",
            "<span class=\"screen_out\">1</span>\n",
            "</span>\n",
            "</span>\n",
            "</div>\n",
            "<a class=\"link_thumb\" href=\"https://v.daum.net/v/20210615200619216\">\n",
            "<img alt='이준석, 접종 모습도 화제.. 상의 탈의하며 \"국민에게 불쾌감 줘 민망\"' aria-hidden=\"true\" class=\"thumb_g\" src=\"https://img1.daumcdn.net/thumb/S95x77ht.u/?fname=https%3A%2F%2Ft1.daumcdn.net%2Fnews%2F202106%2F15%2Fsegye%2F20210615200619838raai.jpg&amp;scode=media\"/>\n",
            "</a>\n",
            "<div class=\"cont_thumb\">\n",
            "<strong class=\"tit_thumb\">\n",
            "<a class=\"link_txt\" href=\"https://v.daum.net/v/20210615200619216\">이준석, 접종 모습도 화제.. 상의 탈의하며 \"국민에게 불쾌감 줘 민망\"</a>\n",
            "<span class=\"info_news\">세계일보</span>\n",
            "</strong>\n",
            "<div class=\"desc_thumb\">\n",
            "<span class=\"link_txt\">\n",
            "                        민방위 대원인 이준석 국민의힘 대표가 15일 오전 서울 노원구의 한 병원에서 코로나19 얀센 백신을 접종하고 있다. 국회사진취재단  한국 헌정사 첫 30대 당수가 된 국...\n",
            "                    </span>\n",
            "</div>\n",
            "</div>\n",
            "</li>\n"
          ],
          "name": "stdout"
        }
      ]
    },
    {
      "cell_type": "code",
      "metadata": {
        "colab": {
          "base_uri": "https://localhost:8080/"
        },
        "id": "IkwduFv29ai6",
        "outputId": "0dfd00ef-97fe-407a-f5ff-ec1a51d81d4c"
      },
      "source": [
        "for li in lis:\n",
        "  title = li.select_one('.cont_thumb > .tit_thumb > a').text.replace('\"','') \n",
        "  info_news = li.select_one('.cont_thumb > .tit_thumb > .info_news').text \n",
        "  print(title,':', info_news )"
      ],
      "execution_count": null,
      "outputs": [
        {
          "output_type": "stream",
          "text": [
            "이준석, 접종 모습도 화제.. 상의 탈의하며 국민에게 불쾌감 줘 민망 : 세계일보\n",
            "AZ 코로나 항체 치료제, 3상 시험서 유의미한 효과 못 거둬 : 연합뉴스\n",
            "'건물 붕괴참사' 개입의혹 조폭출신 전 5·18단체 회장 해외도피(종합) : 연합뉴스\n",
            "[영상]'목 안에서 튀어나온 입' 에일리언 물고기 정체는? : 헤럴드경제\n",
            "물 좀 달라 외치다 숨진 청년, 어쩌다 41년만에 찾았나 : 오마이뉴스\n",
            "전광훈 젖비린내 나는 이준석..민주·국민의힘 모두 해산 시켜야 : 아시아경제\n",
            "14년 동안 8번 '무산'..보수·기독교 반대 이번엔 넘을까 : MBC\n",
            "선글라스 낀 바이든에 발끈한 英 여왕은 안썼는데 : 서울신문\n",
            "광복절부터 대체공휴일 된다는데..결국 공무원만 좋은 일? [이지효의 플러스 PICK] : 한국경제TV\n",
            "[단독] '오피스텔 감금 살인' 피해 남성, 4월 실종 신고..친구 2명은 구속 : MBN\n",
            "사적모임 8인, 식당·카페 영업 자정까지.. 7월부터 적용되나 : 한국일보\n",
            "[단독] 눈뼈 부러지도록 버스기사 폭행..잡고 보니 수배자 : SBS\n",
            "대체공휴일 전면확대..올해 4일 더 쉰다 : 한겨레\n",
            "안철수 당명 바꿔 합당 기습제안..이준석 처음 듣는 얘기 : 한겨레\n",
            "한국에 유수한 제약사 많다..美모더나 넘어 獨 큐어백도 위탁생산하나 : 조선비즈\n",
            "네 친구 생리해?..지인 성관계 불발에 여친 폭행한 50대 : 이데일리\n",
            "[제보영상] CCTV 확인했더니.. 배상도 안 된다는데, 너무 속상해요 : YTN\n",
            "[단독] 이천시 공무원이 땅만 사면 '개발'..수상한 대박 : JTBC\n",
            "북한도 이 정도론 안 미쳤다..탈북 유학생 美대학 비판 : 뉴시스\n",
            "여성 고르는 유리방까지..모텔 개조해 불법 영업 : MBC\n",
            "빚내서 이자 갚는 126만 명..하반기 금리마저 올리면? : MBC\n",
            "1억써야 에르메스 버킨백 기회준다..명품큰손 한국 길들이는 에루샤 : 매일경제\n",
            "광복절 금토일 연휴? 아니면 토일월?..여야 대체공휴일 경쟁 : 중앙일보\n",
            "한국선 구경도 못하는데..中샤넬 진열대엔 '신상' 빼곡 직원들 바로 구매 가능합니다 : 매일경제\n",
            "사타구니 사이로 장 빠져나오는 '소아 탈장' : 매일경제\n",
            "[단독] 윤석열, 이달 말 '정치 참여' 선언 검토..사실상 대선 출정식 : JTBC\n",
            "남아공 남동부 마을서 '다이아몬드 발견' 소동 : 연합뉴스\n",
            "[주진우 라이브] 윤건영 G7 참가국 중 한 국가만 빼고 문 대통령에게 회담 제의..일본의 태도는 한마디로 속 좁은 정치 : KBS\n",
            "모텔방 열자 女 선택하는 '미러방' 있었다 : 이데일리\n",
            "동물 배터지게 먹지 않는 이유, 한국 과학자들이 찾았다 : 중앙일보\n",
            "친부가 딸 성폭행·살해, 엄마가 은폐 英 뒤집은 엽기 재판 : 중앙일보\n",
            "전광훈 젖비린내 이준석에 당하면 대한민국 끝나..민주·국힘 해산 : 뉴스1\n",
            "[단독] 고발 이후 '김현미 연천 땅' 가보니..농지 정비한 모습 : JTBC\n",
            "KTX 예약 해놨는데..AZ 백신 부족에 접종 취소 통보 속출 : 중앙일보\n",
            "호주의 女 쌍둥이, 한 남자와 약혼.. 남편 공유하고 동시에 임신하기로 : 세계일보\n",
            "G7서 고립 낯 가리는 日 스가, 존재감 없어..文과 비교 : 국민일보\n",
            "롤렉스 있나요 VIP 아니면 나가세요..미국 매장서 '마상' 입은 까닭 : 매일경제\n",
            "술 1~2잔이 심장보호? 1군 발암물질 국립암센터 원장 경고 : 중앙일보\n",
            "여성이 나이 들수록 코 많이 고는 이유는? : 헬스조선\n",
            "원룸에 가두고 굶겨 살해..잔인한 동창 2명 구속 : MBC\n",
            "최민희, 이준석 '따릉이 출근'에 그냥 걸어라..서민 왜 화났나 : 중앙일보\n",
            "샤넬백 사러 제주 원정쇼핑..혹시나 했는데 역시나 허탕 : 매일경제\n",
            "자전거 타고 쫓아와 칼로 '푹'.. 뉴욕서 아시아계 또 당했다 : 조선일보\n",
            "전 남편에 애인 생기자 분노..다섯 자녀 살해한 악마 엄마 : 중앙일보\n",
            "[단독] 눈뼈 부러지도록 버스기사 폭행..잡고 보니 수배자 : SBS\n",
            "[여기는 원주] 평창 주민 반발 격화..모든 경기 거부하겠다 : KBS\n",
            "'^^ 이모티콘 붙인 문자로 집단해고..노원구 아파트 경비원들 복직 합의(종합) : 뉴시스\n",
            "英시민권 박탈 IS 신부 난 멍청한 아이였다..고향가고 싶어요 : 서울신문\n",
            "'얀센접종 후 사망' 30대 부검..당국 기저질환 유족 지병 완치 : 머니투데이\n",
            "백신까지 맞았는데.. 이인영 통일장관, '방미' 돌연 취소 : 한국일보\n"
          ],
          "name": "stdout"
        }
      ]
    },
    {
      "cell_type": "markdown",
      "source": [
        "---\n",
        "\n",
        "# **해결문제**\n",
        "\n",
        "다음 뉴스 사이트에서 댓글이 많은 뉴스가 저장된\n",
        "news.csv 파일 내용을 분석해서 \n",
        "댓글수가 평균 댓글보다 많은 뉴스를 찾아보고, \n",
        "댓글 많은 뉴스를 제공한 상위 3개의 신문사를 찾아보자.\n",
        "\n",
        "---"
      ],
      "metadata": {
        "id": "rfjzxGS1loNX"
      }
    }
  ]
}